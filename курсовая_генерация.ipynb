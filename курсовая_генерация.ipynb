{
  "nbformat": 4,
  "nbformat_minor": 0,
  "metadata": {
    "colab": {
      "provenance": [],
      "include_colab_link": true
    },
    "kernelspec": {
      "name": "python3",
      "display_name": "Python 3"
    },
    "language_info": {
      "name": "python"
    }
  },
  "cells": [
    {
      "cell_type": "markdown",
      "metadata": {
        "id": "view-in-github",
        "colab_type": "text"
      },
      "source": [
        "<a href=\"https://colab.research.google.com/github/dainilliniad/small311qlab/blob/generation/%D0%BA%D1%83%D1%80%D1%81%D0%BE%D0%B2%D0%B0%D1%8F_%D0%B3%D0%B5%D0%BD%D0%B5%D1%80%D0%B0%D1%86%D0%B8%D1%8F.ipynb\" target=\"_parent\"><img src=\"https://colab.research.google.com/assets/colab-badge.svg\" alt=\"Open In Colab\"/></a>"
      ]
    },
    {
      "cell_type": "code",
      "execution_count": 6,
      "metadata": {
        "id": "dRzVkqBb_qs5"
      },
      "outputs": [],
      "source": [
        "#выгрузка необходимых библиотек\n",
        "import math\n",
        "import torch\n",
        "import matplotlib.pyplot as plt\n",
        "import random\n",
        "import numpy as np\n",
        "from torch import unsqueeze as unsQ\n",
        "import time\n",
        "import tqdm\n",
        "from tqdm import tqdm"
      ]
    },
    {
      "cell_type": "code",
      "source": [
        "#создание оригинала изображения, тетта от -e/2 до e/2\n",
        "def onePatOfObject(x, y, pmax = 0.9): #degree  радианах, идеальность от 0 до 1, pmin неидеальности диапазоны\n",
        "    p=torch.rand(x, y)*pmax\n",
        "    tetta=torch.rand(x,y)*2.72-1.36*torch.ones([x,y])   #диапазон от -e/2 до e/2\n",
        "    return torch.tensor(p),torch.tensor(tetta)\n",
        "\n",
        "\n",
        "#создание одного шаблона освещения\n",
        "def createRandomPattern(width, height, seed = np.nan, device = 'cpu'):\n",
        "  if not(np.isnan(seed)) : torch.manual_seed(seed)\n",
        "  return torch.randint(low = 0, high = 2, size = (width, height), device = device,dtype = torch.float)\n",
        "  #return torch.rand(width, height)\n",
        "\n",
        "#одного измерение сигнала после объекта\n",
        "def createObjectSignal(pattern,objectProfile, device = 'cpu'):\n",
        "  return unsQ(torch.sum(torch.mul(objectProfile, pattern)),0)\n",
        "\n",
        "# создание последовательности симулированных данных для объекта\n",
        "def createEmulData(numbOfMeasur, objectProfile, device = 'cpu'):\n",
        "  width = objectProfile.size()[0]\n",
        "  height = objectProfile.size()[1]\n",
        "  patterns = unsQ(createRandomPattern(width, height, device = device),0)\n",
        "  objData = createObjectSignal(patterns[0],objectProfile, device = device)\n",
        "  for num in range(1,numbOfMeasur):\n",
        "    localPat = createRandomPattern(width, height, device = device)\n",
        "    objData = torch.cat((objData,createObjectSignal(localPat,objectProfile, device = device)),0)\n",
        "    patterns = torch.cat((patterns,unsQ(localPat,0)),0)\n",
        "  return patterns, objData\n",
        "\n",
        "def crossCorrelation(patterns, objData, device = 'cpu'): #подсчет корреляционной функции\n",
        "  localLen = objData.shape[0]\n",
        "  correlation = torch.zeros_like(patterns[0])\n",
        "  for i in range(localLen):\n",
        "    correlation += (patterns[i]*objData[i])\n",
        "  correlation/= localLen\n",
        "  return (correlation - torch.mean(patterns,0)*torch.mean(objData))\n",
        "def dispersion(patterns):  #подсчет дисперсии\n",
        "  return torch.mean((patterns*patterns), 0) - torch.mean(patterns,0)*torch.mean(patterns,0)"
      ],
      "metadata": {
        "id": "-s7gP6v__1km"
      },
      "execution_count": null,
      "outputs": []
    },
    {
      "cell_type": "code",
      "source": [
        "#cpu or gpu\n",
        "device = torch.device('cuda' if torch.cuda.is_available() else 'cpu')\n",
        "print('Using device:', device)"
      ],
      "metadata": {
        "colab": {
          "base_uri": "https://localhost:8080/"
        },
        "id": "lhDOlBq8AJnE",
        "outputId": "45268052-7269-497c-81c0-68ded3dfbfb1"
      },
      "execution_count": null,
      "outputs": [
        {
          "output_type": "stream",
          "name": "stdout",
          "text": [
            "Using device: cpu\n"
          ]
        }
      ]
    },
    {
      "cell_type": "code",
      "source": [
        "#задание настраиваемых параметров:\n",
        "x, y = 7, 7 # размеры картинки\n",
        "pmax1=0.9 #максимальное значение величины анизотропии p\n",
        "num_frames=10000 #число шаблонов освещения для приближения корреляционой функции\n",
        "num_objs=300 #число объектов"
      ],
      "metadata": {
        "id": "dAAvFcFmAd2S"
      },
      "execution_count": null,
      "outputs": []
    },
    {
      "cell_type": "code",
      "source": [
        "##создание выборки##\n",
        "pitog=[]\n",
        "tetitog=[]\n",
        "cor1=[]\n",
        "cor2=[]\n",
        "cor3=[]\n",
        "for i in tqdm(range(num_objs)):\n",
        "  obj=onePatOfObject(x, y, pmax = pmax1)\n",
        "  p, tet=obj[0], obj[1]\n",
        "  T0=torch.cos(tet)*torch.cos(tet)+p*p*torch.sin(tet)*torch.sin(tet)\n",
        "  T22=1/2*(1+p*p+(1-p*p)*torch.sin(2*tet))\n",
        "  T45=torch.sin(tet)*torch.sin(tet)+p*p*torch.cos(tet)*torch.cos(tet)\n",
        "  pat_test,objData_test = createEmulData(num_frames,T0,device = device)\n",
        "  correlation1 = crossCorrelation(pat_test,objData_test,device = device)\n",
        "  pat_test,objData_test = createEmulData(num_frames,T22,device = device)\n",
        "  correlation2 = crossCorrelation(pat_test,objData_test,device = device)\n",
        "  pat_test,objData_test = createEmulData(num_frames,T45,device = device)\n",
        "  correlation3 = crossCorrelation(pat_test,objData_test,device = device)\n",
        "\n",
        "\n",
        "  for j in range(7):\n",
        "    for k in range(7):\n",
        "      pitog.append(float(p[j][k]))\n",
        "      tetitog.append(float(tet[j][k]))\n",
        "      cor1.append(float(correlation1[j][k]))\n",
        "      cor2.append(float(correlation2[j][k]))\n",
        "      cor3.append(float(correlation3[j][k]))\n",
        "np.save('pitog', pitog)\n",
        "np.save('tetitog', tetitog)\n",
        "np.save('cor1', cor1)\n",
        "np.save('cor2', cor2)\n",
        "np.save('cor3', cor3)"
      ],
      "metadata": {
        "id": "_QpwlgizAN3b"
      },
      "execution_count": null,
      "outputs": []
    },
    {
      "cell_type": "code",
      "source": [
        "#создание наглядных распределений p и тетта\n",
        "pkras=[[0.0, 0.14, 0.28, 0.42, 0.56, 0.70, 0.84],\n",
        "       [0.0, 0.14, 0.28, 0.42, 0.56, 0.70, 0.84],\n",
        "       [0.0, 0.14, 0.28, 0.42, 0.56, 0.70, 0.84],\n",
        "       [0.0, 0.14, 0.28, 0.42, 0.56, 0.70, 0.84],\n",
        "       [0.0, 0.14, 0.28, 0.42, 0.56, 0.70, 0.84],\n",
        "       [0.0, 0.166, 0.28, 0.42, 0.56, 0.70, 0.84],\n",
        "       [0.0, 0.166, 0.28, 0.42, 0.56, 0.70, 0.84]]\n",
        "\n",
        "tetkras=[[-1.36, -1.36, -1.36, -1.36, -1.36, -1.36, -1.36],\n",
        "        [-0.91, -0.91, -0.91, -0.91, -0.91, -0.91, -0.91],\n",
        "        [-0.46, -0.46, -0.46, -0.46,  -0.46, -0.46, -0.46],\n",
        "        [-0.01, -0.01, -0.01, -0.01, -0.01, -0.01, -0.01],\n",
        "        [0.44, 0.44, 0.44, 0.44,  0.44, 0.44, 0.44],\n",
        "        [0.89, 0.89, 0.89, 0.89, 0.89, 0.89, 0.89],\n",
        "        [1.34, 1.34, 1.34, 1.34, 1.34, 1.34, 1.34]]\n"
      ],
      "metadata": {
        "id": "TTvy8zsJENNc"
      },
      "execution_count": 7,
      "outputs": []
    },
    {
      "cell_type": "code",
      "source": [
        "p, tet=torch.tensor(pkras), torch.tensor(tetkras)\n",
        "#print(p)\n",
        "#print(tet)\n",
        "T0=torch.cos(tet)**2+(p*torch.sin(tet))**2\n",
        "T22=1/2*(1+p*p+(1-p*p)*torch.sin(2*tet))\n",
        "T45=torch.sin(tet)**2+(p*torch.cos(tet))**2\n",
        "pat_test,objData_test = createEmulData(10000,T0,device = device)\n",
        "correlation1 = crossCorrelation(pat_test,objData_test,device = device)/dispersion(pat_test)\n",
        "pat_test,objData_test = createEmulData(10000,T22,device = device)\n",
        "correlation2 = crossCorrelation(pat_test,objData_test,device = device)/dispersion(pat_test)\n",
        "pat_test,objData_test = createEmulData(10000,T45,device = device)\n",
        "correlation3 = crossCorrelation(pat_test,objData_test,device = device)/dispersion(pat_test)\n",
        "\n",
        "p_guess=correlation1+correlation3-1\n",
        "p_guess[p_guess<0]=0\n",
        "p_guess=torch.sqrt(p_guess)\n",
        "p_guess[p_guess>0.9]=0.9\n",
        "\n",
        "tet_guess=(2*correlation2-1-p_guess*p_guess)/((1-p_guess*p_guess+correlation1-correlation3))\n",
        "tet_guess=torch.atan(tet_guess)\n",
        "\n",
        "plt.imshow(tet_guess.to('cpu'))\n",
        "plt.colorbar()\n",
        "plt.show()\n",
        "plt.imshow(p_guess)\n",
        "plt.colorbar()\n",
        "plt.show()\n",
        "\n",
        "#\n",
        "print(correlation1/4)\n",
        "print(correlation2/4)\n",
        "print(correlation3/4)"
      ],
      "metadata": {
        "id": "oPKL6EhaEWYm",
        "outputId": "acc74da5-950c-4e76-a1ae-d2b122ad0454",
        "colab": {
          "base_uri": "https://localhost:8080/",
          "height": 1000
        }
      },
      "execution_count": 37,
      "outputs": [
        {
          "output_type": "display_data",
          "data": {
            "text/plain": [
              "<Figure size 640x480 with 2 Axes>"
            ],
            "image/png": "[encoded data removed]"
          },
          "metadata": {}
        },
        {
          "output_type": "display_data",
          "data": {
            "text/plain": [
              "<Figure size 640x480 with 2 Axes>"
            ],
            "image/png": "[encoded data removed]"
          },
          "metadata": {}
        },
        {
          "output_type": "stream",
          "name": "stdout",
          "text": [
            "tensor([[1.3803e-03, 3.4854e-02, 2.3599e-02, 6.0452e-02, 8.2253e-02, 1.2849e-01,\n",
            "         1.7494e-01],\n",
            "        [1.0877e-01, 9.0632e-02, 1.0389e-01, 1.2040e-01, 1.3158e-01, 1.6663e-01,\n",
            "         2.0724e-01],\n",
            "        [2.0276e-01, 2.1044e-01, 2.0882e-01, 1.8549e-01, 1.9987e-01, 2.1685e-01,\n",
            "         2.2721e-01],\n",
            "        [2.6531e-01, 2.4832e-01, 2.4718e-01, 2.4387e-01, 2.3789e-01, 2.6675e-01,\n",
            "         2.5079e-01],\n",
            "        [1.9386e-01, 2.0227e-01, 1.8930e-01, 2.1148e-01, 2.1028e-01, 2.2202e-01,\n",
            "         2.3339e-01],\n",
            "        [8.4193e-02, 1.2092e-01, 1.1833e-01, 1.3548e-01, 1.4682e-01, 1.8468e-01,\n",
            "         1.9873e-01],\n",
            "        [2.4223e-04, 3.3366e-02, 1.1453e-02, 4.4728e-02, 8.6828e-02, 1.2093e-01,\n",
            "         1.7143e-01]])\n",
            "tensor([[0.0675, 0.0850, 0.0719, 0.1211, 0.1401, 0.1548, 0.2144],\n",
            "        [0.0034, 0.0033, 0.0230, 0.0309, 0.0808, 0.1407, 0.1846],\n",
            "        [0.0190, 0.0222, 0.0438, 0.0633, 0.0860, 0.1341, 0.1891],\n",
            "        [0.1328, 0.1275, 0.1320, 0.1522, 0.1644, 0.1832, 0.2077],\n",
            "        [0.2318, 0.2126, 0.2368, 0.2163, 0.2425, 0.2566, 0.2329],\n",
            "        [0.2358, 0.2541, 0.2547, 0.2452, 0.2431, 0.2328, 0.2555],\n",
            "        [0.1772, 0.1851, 0.1887, 0.1942, 0.2143, 0.2141, 0.2469]])\n",
            "tensor([[ 0.2419,  0.2327,  0.2442,  0.2475,  0.2345,  0.2333,  0.2547],\n",
            "        [ 0.1722,  0.1391,  0.1583,  0.1813,  0.2014,  0.2029,  0.2197],\n",
            "        [ 0.0634,  0.0679,  0.0781,  0.0663,  0.1065,  0.1368,  0.2056],\n",
            "        [-0.0107, -0.0070,  0.0108,  0.0318,  0.0967,  0.1232,  0.1723],\n",
            "        [ 0.0356,  0.0381,  0.0499,  0.0797,  0.1159,  0.1462,  0.1862],\n",
            "        [ 0.1648,  0.1463,  0.1523,  0.1599,  0.1782,  0.1996,  0.2059],\n",
            "        [ 0.2511,  0.2341,  0.2338,  0.2432,  0.2296,  0.2480,  0.2418]])\n"
          ]
        }
      ]
    },
    {
      "cell_type": "code",
      "source": [
        "print(p_guess)\n",
        "print(tet_guess)  #вывод аналитических p и tetta"
      ],
      "metadata": {
        "id": "0BBNQQUEJiVG",
        "outputId": "df01f6cf-0229-4e90-bf18-f58ed751422f",
        "colab": {
          "base_uri": "https://localhost:8080/"
        }
      },
      "execution_count": 21,
      "outputs": [
        {
          "output_type": "stream",
          "name": "stdout",
          "text": [
            "tensor([[0.0000, 0.2072, 0.2287, 0.4488, 0.5923, 0.7234, 0.8564],\n",
            "        [0.1744, 0.0000, 0.3940, 0.4763, 0.5313, 0.7104, 0.7943],\n",
            "        [0.0000, 0.0000, 0.3873, 0.3282, 0.5043, 0.6831, 0.8110],\n",
            "        [0.0000, 0.1866, 0.0744, 0.4463, 0.4768, 0.6676, 0.7683],\n",
            "        [0.2674, 0.0000, 0.0000, 0.4109, 0.6263, 0.6931, 0.8677],\n",
            "        [0.1730, 0.0000, 0.3584, 0.4388, 0.5302, 0.7566, 0.8531],\n",
            "        [0.0000, 0.3140, 0.4079, 0.4945, 0.5263, 0.7932, 0.8832]])\n",
            "tensor([[-1.2280, -1.4406, -1.0884, -1.3389,  1.3360, -0.9507, -0.4735],\n",
            "        [-0.9209, -0.8469, -0.9794, -1.0002, -0.7890, -0.8275, -0.8655],\n",
            "        [-0.4264, -0.4533, -0.4450, -0.3161, -0.3741, -0.5613, -0.3376],\n",
            "        [-0.0255, -0.0756,  0.0280, -0.0082,  0.0689,  0.1296,  0.4653],\n",
            "        [ 0.5580,  0.4336,  0.5841,  0.4274,  0.4489,  0.5154, -0.0198],\n",
            "        [ 0.9037,  0.8240,  0.8180,  0.8963,  0.9752,  1.0526,  1.1587],\n",
            "        [ 1.5082, -1.3233, -1.5427,  1.5606,  1.1332,  1.4245, -1.1768]])\n"
          ]
        }
      ]
    },
    {
      "cell_type": "code",
      "source": [
        "plt.imshow(p)\n",
        "plt.colorbar()\n",
        "plt.show()\n",
        "\n",
        "plt.imshow(tet)\n",
        "\n",
        "plt.colorbar()\n",
        "plt.show()"
      ],
      "metadata": {
        "id": "Jp0ESuCUKK7B",
        "outputId": "3fe2bddc-3420-4ef0-fd30-d7aa38693c6b",
        "colab": {
          "base_uri": "https://localhost:8080/",
          "height": 843
        }
      },
      "execution_count": 26,
      "outputs": [
        {
          "output_type": "display_data",
          "data": {
            "text/plain": [
              "<Figure size 640x480 with 2 Axes>"
            ],
            "image/png": "[encoded data removed]"
          },
          "metadata": {}
        },
        {
          "output_type": "display_data",
          "data": {
            "text/plain": [
              "<Figure size 640x480 with 2 Axes>"
            ],
            "image/png": "[encoded data removed]"
          },
          "metadata": {}
        }
      ]
    },
    {
      "cell_type": "code",
      "source": [
        "#подсчет ошибки, тензоры с результатами сети и аналитического счета\n",
        "p_neuro=torch.tensor([[0.1778, 0.1800, 0.2819, 0.4878, 0.6169, 0.8181, 0.9363],\n",
        "        [0.1973, 0.1859, 0.3693, 0.4496, 0.6314, 0.7893, 0.8884],\n",
        "        [0.1900, 0.1672, 0.4060, 0.4916, 0.5937, 0.7393, 0.9214],\n",
        "        [0.1844, 0.2376, 0.2133, 0.4802, 0.5285, 0.6908, 0.8402],\n",
        "        [0.2496, 0.1897, 0.1926, 0.4326, 0.6463, 0.7436, 0.9467],\n",
        "        [0.2315, 0.1765, 0.3467, 0.4747, 0.5809, 0.8561, 0.9316],\n",
        "        [0.1566, 0.2408, 0.4042, 0.5195, 0.5937, 0.8897, 0.9423]])\n",
        "tet_neuro=torch.tensor([[0.0569, 0.0537, 0.0627, 0.0639, 0.0790, 0.0894, 0.1956],\n",
        "        [0.1924, 0.1949, 0.1708, 0.1750, 0.1435, 0.1855, 0.1454],\n",
        "        [0.3620, 0.3564, 0.3482, 0.3269, 0.3384, 0.3149, 0.2728],\n",
        "        [0.4985, 0.4796, 0.5117, 0.5143, 0.5265, 0.5488, 0.6311],\n",
        "        [0.6701, 0.6566, 0.6906, 0.6426, 0.6308, 0.6462, 0.4143],\n",
        "        [0.7811, 0.7656, 0.7939, 0.8150, 0.8238, 0.8408, 0.8483],\n",
        "        [0.9227, 0.9212, 0.9223, 0.9216, 0.9106, 0.1485, 0.8987]])\n",
        "p_analitic=torch.tensor([[0.0000, 0.2072, 0.2287, 0.4488, 0.5923, 0.7234, 0.8564],\n",
        "        [0.1744, 0.0000, 0.3940, 0.4763, 0.5313, 0.7104, 0.7943],\n",
        "        [0.0000, 0.0000, 0.3873, 0.3282, 0.5043, 0.6831, 0.8110],\n",
        "        [0.0000, 0.1866, 0.0744, 0.4463, 0.4768, 0.6676, 0.7683],\n",
        "        [0.2674, 0.0000, 0.0000, 0.4109, 0.6263, 0.6931, 0.8677],\n",
        "        [0.1730, 0.0000, 0.3584, 0.4388, 0.5302, 0.7566, 0.8531],\n",
        "        [0.0000, 0.3140, 0.4079, 0.4945, 0.5263, 0.7932, 0.8832]])\n",
        "tet_analitic=torch.tensor([[-1.2280, -1.4406, -1.0884, -1.3389,  1.3360, -0.9507, -0.4735],\n",
        "        [-0.9209, -0.8469, -0.9794, -1.0002, -0.7890, -0.8275, -0.8655],\n",
        "        [-0.4264, -0.4533, -0.4450, -0.3161, -0.3741, -0.5613, -0.3376],\n",
        "        [-0.0255, -0.0756,  0.0280, -0.0082,  0.0689,  0.1296,  0.4653],\n",
        "        [ 0.5580,  0.4336,  0.5841,  0.4274,  0.4489,  0.5154, -0.0198],\n",
        "        [ 0.9037,  0.8240,  0.8180,  0.8963,  0.9752,  1.0526,  1.1587],\n",
        "        [ 1.5082, -1.3233, -1.5427,  1.5606,  1.1332,  1.4245, -1.1768]])"
      ],
      "metadata": {
        "id": "vbC4MVGRP8EH"
      },
      "execution_count": 27,
      "outputs": []
    },
    {
      "cell_type": "code",
      "source": [
        "#подсчет ошибки\n",
        "n=49\n",
        "mae_analitic_p=(torch.sum(torch.abs(p_analitic-p)))/(n*0.9)  #0.9 - разброс p\n",
        "mae_neuro_p=(torch.sum(torch.abs(p_neuro-p)))/(n*0.9)\n",
        "print('Модуль средней ошибки аналитического счета P:')\n",
        "print(mae_analitic_p)\n",
        "print('Модуль средней ошибки нейронного счета P:')\n",
        "print((mae_neuro_p))\n",
        "mae_analitic_tet=(torch.sum(torch.abs(tet_analitic-tet)))/(n*np.pi)  #np.pi() - разброс p\n",
        "mae_neuro_tet=(torch.sum(torch.abs(tet_neuro-tet)))/(n*np.pi)\n",
        "print('Модуль средней ошибки аналитического счета tetta:')\n",
        "print(mae_analitic_tet)\n",
        "print('Модуль средней ошибки нейронного счета tetta:')\n",
        "print(mae_neuro_tet)"
      ],
      "metadata": {
        "id": "fWMwqeQNQIY0",
        "outputId": "316da57d-327d-46fc-f6ef-e400e0b560a9",
        "colab": {
          "base_uri": "https://localhost:8080/"
        }
      },
      "execution_count": 29,
      "outputs": [
        {
          "output_type": "stream",
          "name": "stdout",
          "text": [
            "Модуль средней ошибки аналитического счета P:\n",
            "tensor(0.0805)\n",
            "Модуль средней ошибки нейронного счета P:\n",
            "tensor(0.0952)\n",
            "Модуль средней ошибки аналитического счета tetta:\n",
            "tensor(0.1075)\n",
            "Модуль средней ошибки нейронного счета tetta:\n",
            "tensor(0.2120)\n"
          ]
        }
      ]
    }
  ]
}