{
  "nbformat": 4,
  "nbformat_minor": 0,
  "metadata": {
    "colab": {
      "provenance": [],
      "include_colab_link": true
    },
    "kernelspec": {
      "name": "python3",
      "display_name": "Python 3"
    },
    "language_info": {
      "name": "python"
    }
  },
  "cells": [
    {
      "cell_type": "markdown",
      "metadata": {
        "id": "view-in-github",
        "colab_type": "text"
      },
      "source": [
        "<a href=\"https://colab.research.google.com/github/dainilliniad/small311qlab/blob/generation/%D0%BA%D1%83%D1%80%D1%81%D0%BE%D0%B2%D0%B0%D1%8F_%D0%B3%D0%B5%D0%BD%D0%B5%D1%80%D0%B0%D1%86%D0%B8%D1%8F.ipynb\" target=\"_parent\"><img src=\"https://colab.research.google.com/assets/colab-badge.svg\" alt=\"Open In Colab\"/></a>"
      ]
    },
    {
      "cell_type": "code",
      "execution_count": 6,
      "metadata": {
        "id": "dRzVkqBb_qs5"
      },
      "outputs": [],
      "source": [
        "#выгрузка необходимых библиотек\n",
        "import math\n",
        "import torch\n",
        "import matplotlib.pyplot as plt\n",
        "import random\n",
        "import numpy as np\n",
        "from torch import unsqueeze as unsQ\n",
        "import time\n",
        "import tqdm\n",
        "from tqdm import tqdm"
      ]
    },
    {
      "cell_type": "code",
      "source": [
        "#создание оригинала изображения, тетта от -e/2 до e/2\n",
        "def onePatOfObject(x, y, pmax = 0.9): #degree  радианах, идеальность от 0 до 1, pmin неидеальности диапазоны\n",
        "    p=torch.rand(x, y)*pmax\n",
        "    tetta=torch.rand(x,y)*2.72-1.36*torch.ones([x,y])   #диапазон от -e/2 до e/2\n",
        "    return torch.tensor(p),torch.tensor(tetta)\n",
        "\n",
        "\n",
        "#создание одного шаблона освещения\n",
        "def createRandomPattern(width, height, seed = np.nan, device = 'cpu'):\n",
        "  if not(np.isnan(seed)) : torch.manual_seed(seed)\n",
        "  return torch.randint(low = 0, high = 2, size = (width, height), device = device,dtype = torch.float)\n",
        "  #return torch.rand(width, height)\n",
        "\n",
        "#одного измерение сигнала после объекта\n",
        "def createObjectSignal(pattern,objectProfile, device = 'cpu'):\n",
        "  return unsQ(torch.sum(torch.mul(objectProfile, pattern)),0)\n",
        "\n",
        "# создание последовательности симулированных данных для объекта\n",
        "def createEmulData(numbOfMeasur, objectProfile, device = 'cpu'):\n",
        "  width = objectProfile.size()[0]\n",
        "  height = objectProfile.size()[1]\n",
        "  patterns = unsQ(createRandomPattern(width, height, device = device),0)\n",
        "  objData = createObjectSignal(patterns[0],objectProfile, device = device)\n",
        "  for num in range(1,numbOfMeasur):\n",
        "    localPat = createRandomPattern(width, height, device = device)\n",
        "    objData = torch.cat((objData,createObjectSignal(localPat,objectProfile, device = device)),0)\n",
        "    patterns = torch.cat((patterns,unsQ(localPat,0)),0)\n",
        "  return patterns, objData\n",
        "\n",
        "def crossCorrelation(patterns, objData, device = 'cpu'): #подсчет корреляционной функции\n",
        "  localLen = objData.shape[0]\n",
        "  correlation = torch.zeros_like(patterns[0])\n",
        "  for i in range(localLen):\n",
        "    correlation += (patterns[i]*objData[i])\n",
        "  correlation/= localLen\n",
        "  return (correlation - torch.mean(patterns,0)*torch.mean(objData))\n",
        "def dispersion(patterns):  #подсчет дисперсии\n",
        "  return torch.mean((patterns*patterns), 0) - torch.mean(patterns,0)*torch.mean(patterns,0)"
      ],
      "metadata": {
        "id": "-s7gP6v__1km"
      },
      "execution_count": null,
      "outputs": []
    },
    {
      "cell_type": "code",
      "source": [
        "#cpu or gpu\n",
        "device = torch.device('cuda' if torch.cuda.is_available() else 'cpu')\n",
        "print('Using device:', device)"
      ],
      "metadata": {
        "colab": {
          "base_uri": "https://localhost:8080/"
        },
        "id": "lhDOlBq8AJnE",
        "outputId": "45268052-7269-497c-81c0-68ded3dfbfb1"
      },
      "execution_count": null,
      "outputs": [
        {
          "output_type": "stream",
          "name": "stdout",
          "text": [
            "Using device: cpu\n"
          ]
        }
      ]
    },
    {
      "cell_type": "code",
      "source": [
        "#задание настраиваемых параметров:\n",
        "x, y = 7, 7 # размеры картинки\n",
        "pmax1=0.9 #максимальное значение величины анизотропии p\n",
        "num_frames=10000 #число шаблонов освещения для приближения корреляционой функции\n",
        "num_objs=300 #число объектов"
      ],
      "metadata": {
        "id": "dAAvFcFmAd2S"
      },
      "execution_count": null,
      "outputs": []
    },
    {
      "cell_type": "code",
      "source": [
        "##создание выборки##\n",
        "pitog=[]\n",
        "tetitog=[]\n",
        "cor1=[]\n",
        "cor2=[]\n",
        "cor3=[]\n",
        "for i in tqdm(range(num_objs)):\n",
        "  obj=onePatOfObject(x, y, pmax = pmax1)\n",
        "  p, tet=obj[0], obj[1]\n",
        "  T0=torch.cos(tet)*torch.cos(tet)+p*p*torch.sin(tet)*torch.sin(tet)\n",
        "  T22=1/2*(1+p*p+(1-p*p)*torch.sin(2*tet))\n",
        "  T45=torch.sin(tet)*torch.sin(tet)+p*p*torch.cos(tet)*torch.cos(tet)\n",
        "  pat_test,objData_test = createEmulData(num_frames,T0,device = device)\n",
        "  correlation1 = crossCorrelation(pat_test,objData_test,device = device)\n",
        "  pat_test,objData_test = createEmulData(num_frames,T22,device = device)\n",
        "  correlation2 = crossCorrelation(pat_test,objData_test,device = device)\n",
        "  pat_test,objData_test = createEmulData(num_frames,T45,device = device)\n",
        "  correlation3 = crossCorrelation(pat_test,objData_test,device = device)\n",
        "\n",
        "\n",
        "  for j in range(7):\n",
        "    for k in range(7):\n",
        "      pitog.append(float(p[j][k]))\n",
        "      tetitog.append(float(tet[j][k]))\n",
        "      cor1.append(float(correlation1[j][k]))\n",
        "      cor2.append(float(correlation2[j][k]))\n",
        "      cor3.append(float(correlation3[j][k]))\n",
        "np.save('pitog', pitog)\n",
        "np.save('tetitog', tetitog)\n",
        "np.save('cor1', cor1)\n",
        "np.save('cor2', cor2)\n",
        "np.save('cor3', cor3)"
      ],
      "metadata": {
        "id": "_QpwlgizAN3b"
      },
      "execution_count": null,
      "outputs": []
    },
    {
      "cell_type": "code",
      "source": [
        "#создание наглядных распределений p и тетта\n",
        "pkras=[[0.84, 0.14, 0.28, 0.42, 0.56, 0.70, 0.84],\n",
        "       [0.84, 0.14, 0.28, 0.42, 0.56, 0.70, 0.84],\n",
        "       [0.84, 0.14, 0.28, 0.42, 0.56, 0.70, 0.84],\n",
        "       [0.84, 0.14, 0.28, 0.42, 0.56, 0.70, 0.84],\n",
        "       [0.84, 0.14, 0.28, 0.42, 0.56, 0.70, 0.84],\n",
        "       [0.84, 0.166, 0.28, 0.42, 0.56, 0.70, 0.84],\n",
        "       [0.84, 0.166, 0.28, 0.42, 0.56, 0.70, 0.84]]\n",
        "\n",
        "tetkras=[[-1.36, -1.36, -1.36, -1.36, -1.36, -1.36, -1.36],\n",
        "        [-0.91, -0.91, -0.91, -0.91, -0.91, -0.91, -0.91],\n",
        "        [-0.46, -0.46, -0.46, -0.46,  -0.46, -0.46, -0.46],\n",
        "        [-0.01, -0.01, -0.01, -0.01, -0.01, -0.01, -0.01],\n",
        "        [0.44, 0.44, 0.44, 0.44,  0.44, 0.44, 0.44],\n",
        "        [0.89, 0.89, 0.89, 0.89, 0.89, 0.89, 0.89],\n",
        "        [1.34, 1.34, 1.34, 1.34, 1.34, 1.34, 1.34]]\n"
      ],
      "metadata": {
        "id": "TTvy8zsJENNc"
      },
      "execution_count": 41,
      "outputs": []
    },
    {
      "cell_type": "code",
      "source": [
        "p, tet=torch.tensor(pkras), torch.tensor(tetkras)\n",
        "#print(p)\n",
        "#print(tet)\n",
        "T0=torch.cos(tet)**2+(p*torch.sin(tet))**2\n",
        "T22=1/2*(1+p*p+(1-p*p)*torch.sin(2*tet))\n",
        "T45=torch.sin(tet)**2+(p*torch.cos(tet))**2\n",
        "pat_test,objData_test = createEmulData(10000,T0,device = device)\n",
        "correlation1 = crossCorrelation(pat_test,objData_test,device = device)/dispersion(pat_test)\n",
        "pat_test,objData_test = createEmulData(10000,T22,device = device)\n",
        "correlation2 = crossCorrelation(pat_test,objData_test,device = device)/dispersion(pat_test)\n",
        "pat_test,objData_test = createEmulData(10000,T45,device = device)\n",
        "correlation3 = crossCorrelation(pat_test,objData_test,device = device)/dispersion(pat_test)\n",
        "\n",
        "p_guess=correlation1+correlation3-1\n",
        "p_guess[p_guess<0]=0\n",
        "p_guess=torch.sqrt(p_guess)\n",
        "#p_guess[p_guess>0.9]=0.9\n",
        "\n",
        "tet_guess=(2*correlation2-1-p_guess*p_guess)/((1-p_guess*p_guess+correlation1-correlation3))\n",
        "tet_guess=torch.atan(tet_guess)\n",
        "\n",
        "plt.imshow(tet_guess.to('cpu'))\n",
        "plt.colorbar()\n",
        "plt.show()\n",
        "plt.imshow(p_guess)\n",
        "plt.colorbar()\n",
        "plt.show()\n",
        "\n",
        "#\n",
        "print(correlation1/4)\n",
        "print(correlation2/4)\n",
        "print(correlation3/4)"
      ],
      "metadata": {
        "id": "oPKL6EhaEWYm",
        "outputId": "8b73abe3-29f1-464f-97f4-1476b2d53503",
        "colab": {
          "base_uri": "https://localhost:8080/",
          "height": 1000
        }
      },
      "execution_count": 43,
      "outputs": [
        {
          "output_type": "display_data",
          "data": {
            "text/plain": [
              "<Figure size 640x480 with 2 Axes>"
            ],
            "image/png": "[encoded data removed]"
          },
          "metadata": {}
        },
        {
          "output_type": "display_data",
          "data": {
            "text/plain": [
              "<Figure size 640x480 with 2 Axes>"
            ],
            "image/png": "[encoded data removed]"
          },
          "metadata": {}
        },
        {
          "output_type": "stream",
          "name": "stdout",
          "text": [
            "tensor([[0.1906, 0.0296, 0.0240, 0.0896, 0.0710, 0.1354, 0.1691],\n",
            "        [0.1917, 0.0992, 0.1224, 0.1307, 0.1598, 0.1774, 0.2019],\n",
            "        [0.2321, 0.2191, 0.2354, 0.2165, 0.2050, 0.2106, 0.2220],\n",
            "        [0.2771, 0.2367, 0.2595, 0.2516, 0.2516, 0.2641, 0.2249],\n",
            "        [0.2360, 0.2237, 0.1946, 0.2062, 0.2317, 0.2341, 0.2557],\n",
            "        [0.1917, 0.0934, 0.1125, 0.1358, 0.1563, 0.1861, 0.1992],\n",
            "        [0.1869, 0.0074, 0.0398, 0.0446, 0.0846, 0.1206, 0.1897]])\n",
            "tensor([[0.1926, 0.0488, 0.0891, 0.1133, 0.1427, 0.1627, 0.2021],\n",
            "        [0.1808, 0.0014, 0.0554, 0.0418, 0.0849, 0.1199, 0.1706],\n",
            "        [0.1779, 0.0481, 0.0282, 0.0639, 0.0788, 0.1326, 0.1869],\n",
            "        [0.2257, 0.1394, 0.1057, 0.1453, 0.1545, 0.1804, 0.2243],\n",
            "        [0.2586, 0.2278, 0.2173, 0.2212, 0.2429, 0.2256, 0.2394],\n",
            "        [0.2326, 0.2442, 0.2652, 0.2624, 0.2365, 0.2659, 0.2619],\n",
            "        [0.2327, 0.1763, 0.1895, 0.2000, 0.2288, 0.2071, 0.2235]])\n",
            "tensor([[ 0.2287,  0.2293,  0.2514,  0.2512,  0.2370,  0.2317,  0.2504],\n",
            "        [ 0.2233,  0.1429,  0.1646,  0.1723,  0.1697,  0.1948,  0.2078],\n",
            "        [ 0.1983,  0.0413,  0.0611,  0.0970,  0.1273,  0.1431,  0.1807],\n",
            "        [ 0.1818, -0.0090,  0.0061,  0.0310,  0.0539,  0.1319,  0.1637],\n",
            "        [ 0.1847,  0.0653,  0.0451,  0.0673,  0.0977,  0.1324,  0.1755],\n",
            "        [ 0.2148,  0.1470,  0.1780,  0.1564,  0.1775,  0.1981,  0.2212],\n",
            "        [ 0.2509,  0.2331,  0.2287,  0.2361,  0.2288,  0.2282,  0.2514]])\n"
          ]
        }
      ]
    },
    {
      "cell_type": "code",
      "source": [
        "print(p_guess)\n",
        "print(tet_guess)  #вывод аналитических p и tetta"
      ],
      "metadata": {
        "colab": {
          "base_uri": "https://localhost:8080/"
        },
        "id": "0BBNQQUEJiVG",
        "outputId": "f410a899-c149-4cd0-9c2c-382e514298b1"
      },
      "execution_count": 44,
      "outputs": [
        {
          "output_type": "stream",
          "name": "stdout",
          "text": [
            "tensor([[0.8228, 0.1882, 0.3186, 0.6027, 0.4815, 0.6841, 0.8233],\n",
            "        [0.8123, 0.0000, 0.3843, 0.4605, 0.5638, 0.6991, 0.7993],\n",
            "        [0.8494, 0.2041, 0.4310, 0.5041, 0.5738, 0.6441, 0.7817],\n",
            "        [0.9139, 0.0000, 0.2492, 0.3614, 0.4711, 0.7641, 0.7448],\n",
            "        [0.8263, 0.3953, 0.0000, 0.3068, 0.5633, 0.6827, 0.8514],\n",
            "        [0.7913, 0.0000, 0.4026, 0.4108, 0.5788, 0.7329, 0.8258],\n",
            "        [0.8667, 0.0000, 0.2722, 0.3506, 0.5035, 0.6286, 0.8744]])\n",
            "tensor([[-0.6745, -1.3190,  1.5425,  1.5501, -0.7143, -0.8473,  1.5203],\n",
            "        [-0.7853, -0.8753, -0.8003, -0.9550, -0.7823, -0.8759, -0.6814],\n",
            "        [-0.6247, -0.3750, -0.5659, -0.5455, -0.6187, -0.3925, -0.2056],\n",
            "        [-0.0545,  0.0581, -0.1104,  0.0182,  0.0089, -0.1474,  0.3341],\n",
            "        [ 0.6367,  0.4237,  0.4327,  0.4330,  0.4746,  0.3458,  0.3087],\n",
            "        [ 0.6961,  0.8817,  1.0303,  0.8931,  0.7650,  0.9581,  1.0630],\n",
            "        [-1.5049,  1.3378,  1.2027,  1.3417,  1.2851,  0.9835, -1.1111]])\n"
          ]
        }
      ]
    },
    {
      "cell_type": "code",
      "source": [
        "plt.imshow(p)\n",
        "plt.colorbar()\n",
        "plt.show()\n",
        "\n",
        "plt.imshow(tet)\n",
        "\n",
        "plt.colorbar()\n",
        "plt.show()"
      ],
      "metadata": {
        "colab": {
          "base_uri": "https://localhost:8080/",
          "height": 843
        },
        "id": "Jp0ESuCUKK7B",
        "outputId": "8a926ae5-0723-4e2b-8628-881e5dee6817"
      },
      "execution_count": 47,
      "outputs": [
        {
          "output_type": "display_data",
          "data": {
            "text/plain": [
              "<Figure size 640x480 with 2 Axes>"
            ],
            "image/png": "[encoded data removed]"
          },
          "metadata": {}
        },
        {
          "output_type": "display_data",
          "data": {
            "text/plain": [
              "<Figure size 640x480 with 2 Axes>"
            ],
            "image/png": "[encoded data removed]"
          },
          "metadata": {}
        }
      ]
    },
    {
      "cell_type": "code",
      "source": [
        "#подсчет ошибки, тензоры с результатами сети и аналитического счета\n",
        "p_neuro=torch.tensor([[0.8089, 0.1441, 0.2400, 0.5453, 0.5142, 0.7156, 0.7881],\n",
        "        [0.8000, 0.1219, 0.4302, 0.4091, 0.5629, 0.6755, 0.7955],\n",
        "        [0.8075, 0.1980, 0.2363, 0.4627, 0.5413, 0.6783, 0.7900],\n",
        "        [0.8128, 0.1317, 0.1755, 0.3185, 0.4552, 0.7067, 0.7397],\n",
        "        [0.7943, 0.3249, 0.1585, 0.2713, 0.5238, 0.6570, 0.7940],\n",
        "        [0.7912, 0.1473, 0.3478, 0.3788, 0.5767, 0.7306, 0.8013],\n",
        "        [0.8296, 0.0982, 0.2472, 0.2973, 0.4828, 0.6328, 0.8170]])\n",
        "tet_neuro=torch.tensor([[-0.8263, -0.9111, -0.9863, -0.9490, -0.7462, -0.9310, -0.5949],\n",
        "        [-0.7925, -0.6931, -0.7099, -0.6987, -0.6680, -0.6875, -0.6451],\n",
        "        [-0.4433, -0.2787, -0.3067, -0.3527, -0.4306, -0.3889, -0.3207],\n",
        "        [ 0.1308,  0.1006, -0.0120,  0.1083,  0.1096,  0.0047,  0.3673],\n",
        "        [ 0.5324,  0.4216,  0.4710,  0.4564,  0.4221,  0.3159,  0.3453],\n",
        "        [ 0.9566,  0.9151,  0.8948,  0.7888,  0.8363,  0.8495,  0.9378],\n",
        "        [ 1.1245,  1.2726,  1.2347,  1.2471,  1.1937,  1.1717,  0.9379]])\n",
        "p_analitic=torch.tensor([[0.8228, 0.1882, 0.3186, 0.6027, 0.4815, 0.6841, 0.8233],\n",
        "        [0.8123, 0.0000, 0.3843, 0.4605, 0.5638, 0.6991, 0.7993],\n",
        "        [0.8494, 0.2041, 0.4310, 0.5041, 0.5738, 0.6441, 0.7817],\n",
        "        [0.9139, 0.0000, 0.2492, 0.3614, 0.4711, 0.7641, 0.7448],\n",
        "        [0.8263, 0.3953, 0.0000, 0.3068, 0.5633, 0.6827, 0.8514],\n",
        "        [0.7913, 0.0000, 0.4026, 0.4108, 0.5788, 0.7329, 0.8258],\n",
        "        [0.8667, 0.0000, 0.2722, 0.3506, 0.5035, 0.6286, 0.8744]])\n",
        "tet_analitic=torch.tensor([[-0.6745, -1.3190,  1.5425,  1.5501, -0.7143, -0.8473,  1.5203],\n",
        "        [-0.7853, -0.8753, -0.8003, -0.9550, -0.7823, -0.8759, -0.6814],\n",
        "        [-0.6247, -0.3750, -0.5659, -0.5455, -0.6187, -0.3925, -0.2056],\n",
        "        [-0.0545,  0.0581, -0.1104,  0.0182,  0.0089, -0.1474,  0.3341],\n",
        "        [ 0.6367,  0.4237,  0.4327,  0.4330,  0.4746,  0.3458,  0.3087],\n",
        "        [ 0.6961,  0.8817,  1.0303,  0.8931,  0.7650,  0.9581,  1.0630],\n",
        "        [-1.5049,  1.3378,  1.2027,  1.3417,  1.2851,  0.9835, -1.1111]])"
      ],
      "metadata": {
        "id": "vbC4MVGRP8EH"
      },
      "execution_count": 45,
      "outputs": []
    },
    {
      "cell_type": "code",
      "source": [
        "#подсчет ошибки\n",
        "n=49\n",
        "mae_analitic_p=(torch.sum(torch.abs(p_analitic-p)))/(n*0.9)  #0.9 - разброс p\n",
        "mae_neuro_p=(torch.sum(torch.abs(p_neuro-p)))/(n*0.9)\n",
        "print('Модуль средней ошибки аналитического счета P:')\n",
        "print(mae_analitic_p)\n",
        "print('Модуль средней ошибки нейронного счета P:')\n",
        "print((mae_neuro_p))\n",
        "mae_analitic_tet=(torch.sum(torch.abs(tet_analitic-tet)))/(n*np.pi)  #np.pi() - разброс p\n",
        "mae_neuro_tet=(torch.sum(torch.abs(tet_neuro-tet)))/(n*np.pi)\n",
        "print('Модуль средней ошибки аналитического счета tetta:')\n",
        "print(mae_analitic_tet)\n",
        "print('Модуль средней ошибки нейронного счета tetta:')\n",
        "print(mae_neuro_tet)"
      ],
      "metadata": {
        "id": "fWMwqeQNQIY0",
        "outputId": "ae350019-2392-420f-fe43-0592c6053884",
        "colab": {
          "base_uri": "https://localhost:8080/"
        }
      },
      "execution_count": 46,
      "outputs": [
        {
          "output_type": "stream",
          "name": "stdout",
          "text": [
            "Модуль средней ошибки аналитического счета P:\n",
            "tensor(0.0744)\n",
            "Модуль средней ошибки нейронного счета P:\n",
            "tensor(0.0593)\n",
            "Модуль средней ошибки аналитического счета tetta:\n",
            "tensor(0.1299)\n",
            "Модуль средней ошибки нейронного счета tetta:\n",
            "tensor(0.0556)\n"
          ]
        }
      ]
    }
  ]
}