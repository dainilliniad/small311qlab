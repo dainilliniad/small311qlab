{
  "nbformat": 4,
  "nbformat_minor": 0,
  "metadata": {
    "colab": {
      "provenance": [],
      "authorship_tag": "ABX9TyNwVj35v/sF9VKRNqj5N9Dl",
      "include_colab_link": true
    },
    "kernelspec": {
      "name": "python3",
      "display_name": "Python 3"
    },
    "language_info": {
      "name": "python"
    }
  },
  "cells": [
    {
      "cell_type": "markdown",
      "metadata": {
        "id": "view-in-github",
        "colab_type": "text"
      },
      "source": [
        "<a href=\"https://colab.research.google.com/github/dainilliniad/small311qlab/blob/generation/%D0%BA%D1%83%D1%80%D1%81%D0%BE%D0%B2%D0%B0%D1%8F_%D0%B3%D0%B5%D0%BD%D0%B5%D1%80%D0%B0%D1%86%D0%B8%D1%8F.ipynb\" target=\"_parent\"><img src=\"https://colab.research.google.com/assets/colab-badge.svg\" alt=\"Open In Colab\"/></a>"
      ]
    },
    {
      "cell_type": "code",
      "execution_count": null,
      "metadata": {
        "id": "dRzVkqBb_qs5"
      },
      "outputs": [],
      "source": [
        "#выгрузка необходимых библиотек\n",
        "import math\n",
        "import torch\n",
        "import matplotlib.pyplot as plt\n",
        "import random\n",
        "import numpy as np\n",
        "from torch import unsqueeze as unsQ\n",
        "import time\n",
        "import tqdm\n",
        "from tqdm import tqdm"
      ]
    },
    {
      "cell_type": "code",
      "source": [
        "#создание оригинала изображения\n",
        "def onePatOfObject(x, y, pmax = 0.9): #degree  радианах, идеальность от 0 до 1, pmin неидеальности диапазоны\n",
        "    p=torch.rand(x, y)*pmax\n",
        "    tetta=torch.rand(x,y)*np.pi/2\n",
        "    return torch.tensor(p),torch.tensor(tetta)\n",
        "\n",
        "\n",
        "#создание одного шаблона освещения\n",
        "def createRandomPattern(width, height, seed = np.nan, device = 'cpu'):\n",
        "  if not(np.isnan(seed)) : torch.manual_seed(seed)\n",
        "  return torch.randint(low = 0, high = 2, size = (width, height), device = device,dtype = torch.float)\n",
        "\n",
        "\n",
        "#одного измерение сигнала после объекта\n",
        "def createObjectSignal(pattern,objectProfile, device = 'cpu'):\n",
        "  return unsQ(torch.sum(torch.mul(objectProfile, pattern)),0)\n",
        "\n",
        "\n",
        "# создание последовательности симулированных данных для объекта\n",
        "\n",
        "def createEmulData(numbOfMeasur, objectProfile, device = 'cpu'):\n",
        "  width = objectProfile.size()[0]\n",
        "  height = objectProfile.size()[1]\n",
        "  patterns = unsQ(createRandomPattern(width, height, device = device),0)\n",
        "  objData = createObjectSignal(patterns[0],objectProfile, device = device)\n",
        "  for num in range(1,numbOfMeasur):\n",
        "    localPat = createRandomPattern(width, height, device = device)\n",
        "    objData = torch.cat((objData,createObjectSignal(localPat,objectProfile, device = device)),0)\n",
        "    patterns = torch.cat((patterns,unsQ(localPat,0)),0)\n",
        "  return patterns, objData\n",
        "\n",
        "def crossCorrelation(patterns, objData, device = 'cpu'):\n",
        "  localLen = objData.shape[0]\n",
        "  correlation = torch.zeros_like(patterns[0])\n",
        "  for i in range(localLen):\n",
        "    correlation = correlation + patterns[i]*objData[i]/localLen\n",
        "  return (correlation - torch.mean(patterns,0)*torch.mean(objData))*4"
      ],
      "metadata": {
        "id": "-s7gP6v__1km"
      },
      "execution_count": null,
      "outputs": []
    },
    {
      "cell_type": "code",
      "source": [
        "#cpu or gpu\n",
        "device = torch.device('cuda' if torch.cuda.is_available() else 'cpu')\n",
        "print('Using device:', device)"
      ],
      "metadata": {
        "colab": {
          "base_uri": "https://localhost:8080/"
        },
        "id": "lhDOlBq8AJnE",
        "outputId": "53795c4e-af72-4b9a-b877-322be3f040dc"
      },
      "execution_count": null,
      "outputs": [
        {
          "output_type": "stream",
          "name": "stdout",
          "text": [
            "Using device: cpu\n"
          ]
        }
      ]
    },
    {
      "cell_type": "code",
      "source": [
        "#задание настраиваемых параметров:\n",
        "x, y = 7, 7 # размеры картинки\n",
        "pmax1=0.9 #максимальное значение величины анизотропии p\n",
        "num_frames=10000 #число шаблонов освещения для приближения корреляционой функции\n",
        "num_objs=400 #число объектов"
      ],
      "metadata": {
        "id": "dAAvFcFmAd2S"
      },
      "execution_count": null,
      "outputs": []
    },
    {
      "cell_type": "code",
      "source": [
        "print(x,y)"
      ],
      "metadata": {
        "colab": {
          "base_uri": "https://localhost:8080/"
        },
        "id": "1q8SxmgSAp-T",
        "outputId": "a9757edd-d071-4b58-a5d8-75fe09cc4b9c"
      },
      "execution_count": null,
      "outputs": [
        {
          "output_type": "stream",
          "name": "stdout",
          "text": [
            "1 2\n"
          ]
        }
      ]
    },
    {
      "cell_type": "code",
      "source": [
        "##создание выборки##\n",
        "pitog=[]\n",
        "tetitog=[]\n",
        "cor1=[]\n",
        "cor2=[]\n",
        "cor3=[]\n",
        "for i in tqdm(range(num_objs)):\n",
        "  obj=onePatOfObject(x, y, pmax = pmax1)\n",
        "  p, tet=obj[0], obj[1]\n",
        "  T0=torch.cos(tet)*torch.cos(tet)+p*torch.sin(tet)*torch.sin(tet)\n",
        "  T22=1/2*(1+p*p-(1-p*p)*torch.sin(2*tet))\n",
        "  T45=torch.sin(tet)*torch.sin(tet)+p*torch.cos(tet)*torch.cos(tet)\n",
        "  pat_test,objData_test = createEmulData(num_frames,T0,device = device)\n",
        "  correlation1 = crossCorrelation(pat_test,objData_test,device = device)\n",
        "  pat_test,objData_test = createEmulData(num_frames,T22,device = device)\n",
        "  correlation2 = crossCorrelation(pat_test,objData_test,device = device)\n",
        "  pat_test,objData_test = createEmulData(num_frames,T45,device = device)\n",
        "  correlation3 = crossCorrelation(pat_test,objData_test,device = device)\n",
        "\n",
        "\n",
        "  for j in range(7):\n",
        "    for k in range(7):\n",
        "      pitog.append(float(p[j][k]))\n",
        "      tetitog.append(float(tet[j][k]))\n",
        "      cor1.append(float(correlation1[j][k]))\n",
        "      cor2.append(float(correlation2[j][k]))\n",
        "      cor3.append(float(correlation3[j][k]))\n",
        "np.save('pitog', pitog)\n",
        "np.save('tetitog', tetitog)\n",
        "np.save('cor1', cor1)\n",
        "np.save('cor2', cor2)\n",
        "np.save('cor3', cor3)"
      ],
      "metadata": {
        "id": "_QpwlgizAN3b"
      },
      "execution_count": null,
      "outputs": []
    },
    {
      "cell_type": "code",
      "source": [
        "pkras=[[0.0, 0.166, 0.332, 0.498, 0.664, 0.83, 0.996],\n",
        "       [0.166, 0.332, 0.498, 0.664, 0.83, 0.996, 0.0],\n",
        "       [0.332, 0.498, 0.664, 0.83, 0.996, 0.0, 0.166],\n",
        "       [0.498, 0.664, 0.83, 0.996, 0.0, 0.166, 0.332],\n",
        "       [0.664, 0.83, 0.996, 0.0, 0.166, 0.332, 0.498],\n",
        "       [0.83, 0.996, 0.0, 0.166, 0.332, 0.498, 0.664],\n",
        "       [0.996, 0.0, 0.166, 0.332, 0.498, 0.664, 0.83]]\n",
        "\n",
        "tetkras=[[0.0, 0.166, 0.332, 0.498, 0.332, 0.166, 0.0],\n",
        "        [0.166, 0.332, 0.498, 0.664, 0.498, 0.332, 0.166],\n",
        "        [0.332, 0.498, 0.664, 0.83,  0.664, 0.498, 0.332],\n",
        "        [0.498, 0.664, 0.83, 0.996, 0.83, 0.664, 0.498],\n",
        "        [0.332, 0.498, 0.664, 0.83,  0.664, 0.498, 0.332],\n",
        "        [0.166, 0.332, 0.498, 0.664, 0.498, 0.332, 0.166],\n",
        "        [0.0, 0.166, 0.332, 0.498, 0.332, 0.166, 0.0]]\n",
        "\n",
        "plt.imshow(tetkras)\n"
      ],
      "metadata": {
        "colab": {
          "base_uri": "https://localhost:8080/",
          "height": 447
        },
        "id": "TTvy8zsJENNc",
        "outputId": "b41066e9-b196-433e-b667-6e1f6b09ef66"
      },
      "execution_count": null,
      "outputs": [
        {
          "output_type": "execute_result",
          "data": {
            "text/plain": [
              "<matplotlib.image.AxesImage at 0x7fd26137a470>"
            ]
          },
          "metadata": {},
          "execution_count": 30
        },
        {
          "output_type": "display_data",
          "data": {
            "text/plain": [
              "<Figure size 640x480 with 1 Axes>"
            ],
            "image/png": "[encoded data removed]"
          },
          "metadata": {}
        }
      ]
    },
    {
      "cell_type": "code",
      "source": [
        "plt.imshow(tetkras)"
      ],
      "metadata": {
        "colab": {
          "base_uri": "https://localhost:8080/",
          "height": 447
        },
        "id": "lKhW8wuKGrFr",
        "outputId": "4ee9cdd0-dcbf-41ff-c5cb-8d8480b37149"
      },
      "execution_count": null,
      "outputs": [
        {
          "output_type": "execute_result",
          "data": {
            "text/plain": [
              "<matplotlib.image.AxesImage at 0x7fd261562cb0>"
            ]
          },
          "metadata": {},
          "execution_count": 32
        },
        {
          "output_type": "display_data",
          "data": {
            "text/plain": [
              "<Figure size 640x480 with 1 Axes>"
            ],
            "image/png": "[encoded data removed]"
          },
          "metadata": {}
        }
      ]
    },
    {
      "cell_type": "code",
      "source": [
        "p, tet=torch.tensor(pkras), torch.tensor(tetkras)*1.57\n",
        "print(p)\n",
        "T0=torch.cos(tet)*torch.cos(tet)+p*torch.sin(tet)*torch.sin(tet)\n",
        "T22=1/2*(1+p*p-(1-p*p)*torch.sin(2*tet))\n",
        "T45=torch.sin(tet)*torch.sin(tet)+p*torch.cos(tet)*torch.cos(tet)\n",
        "pat_test,objData_test = createEmulData(10000,T0,device = device)\n",
        "correlation1 = crossCorrelation(pat_test,objData_test,device = device)\n",
        "pat_test,objData_test = createEmulData(10000,T22,device = device)\n",
        "correlation2 = crossCorrelation(pat_test,objData_test,device = device)\n",
        "pat_test,objData_test = createEmulData(10000,T45,device = device)\n",
        "correlation3 = crossCorrelation(pat_test,objData_test,device = device)\n",
        "\n",
        "p_guess=correlation1+correlation3-1\n",
        "\n",
        "p_guess[p_guess>1]=1\n",
        "p_guess[p_guess<0]=0\n",
        "p_guess=torch.sqrt(p_guess)\n",
        "\n",
        "plt.imshow(p_guess.to('cpu'))\n",
        "plt.colorbar()\n",
        "plt.show()\n"
      ],
      "metadata": {
        "colab": {
          "base_uri": "https://localhost:8080/",
          "height": 557
        },
        "id": "oPKL6EhaEWYm",
        "outputId": "de72bc2c-701c-4fb6-dff0-a2e335c8737d"
      },
      "execution_count": null,
      "outputs": [
        {
          "output_type": "stream",
          "name": "stdout",
          "text": [
            "tensor([[0.0000, 0.1660, 0.3320, 0.4980, 0.6640, 0.8300, 0.9960],\n",
            "        [0.1660, 0.3320, 0.4980, 0.6640, 0.8300, 0.9960, 0.0000],\n",
            "        [0.3320, 0.4980, 0.6640, 0.8300, 0.9960, 0.0000, 0.1660],\n",
            "        [0.4980, 0.6640, 0.8300, 0.9960, 0.0000, 0.1660, 0.3320],\n",
            "        [0.6640, 0.8300, 0.9960, 0.0000, 0.1660, 0.3320, 0.4980],\n",
            "        [0.8300, 0.9960, 0.0000, 0.1660, 0.3320, 0.4980, 0.6640],\n",
            "        [0.9960, 0.0000, 0.1660, 0.3320, 0.4980, 0.6640, 0.8300]])\n"
          ]
        },
        {
          "output_type": "display_data",
          "data": {
            "text/plain": [
              "<Figure size 640x480 with 2 Axes>"
            ],
            "image/png": "[encoded data removed]"
          },
          "metadata": {}
        }
      ]
    }
  ]
}