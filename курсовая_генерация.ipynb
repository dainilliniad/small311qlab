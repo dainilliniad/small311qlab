{
  "nbformat": 4,
  "nbformat_minor": 0,
  "metadata": {
    "colab": {
      "provenance": [],
      "include_colab_link": true
    },
    "kernelspec": {
      "name": "python3",
      "display_name": "Python 3"
    },
    "language_info": {
      "name": "python"
    }
  },
  "cells": [
    {
      "cell_type": "markdown",
      "metadata": {
        "id": "view-in-github",
        "colab_type": "text"
      },
      "source": [
        "<a href=\"https://colab.research.google.com/github/dainilliniad/small311qlab/blob/generation/%D0%BA%D1%83%D1%80%D1%81%D0%BE%D0%B2%D0%B0%D1%8F_%D0%B3%D0%B5%D0%BD%D0%B5%D1%80%D0%B0%D1%86%D0%B8%D1%8F.ipynb\" target=\"_parent\"><img src=\"https://colab.research.google.com/assets/colab-badge.svg\" alt=\"Open In Colab\"/></a>"
      ]
    },
    {
      "cell_type": "code",
      "execution_count": 1,
      "metadata": {
        "id": "dRzVkqBb_qs5"
      },
      "outputs": [],
      "source": [
        "#выгрузка необходимых библиотек\n",
        "import math\n",
        "import torch\n",
        "import matplotlib.pyplot as plt\n",
        "import random\n",
        "import numpy as np\n",
        "from torch import unsqueeze as unsQ\n",
        "import time\n",
        "import tqdm\n",
        "from tqdm import tqdm"
      ]
    },
    {
      "cell_type": "code",
      "source": [
        "#создание оригинала изображения, тетта от -e/2 до e/2\n",
        "def onePatOfObject(x, y, pmax = 0.9): #degree  радианах, идеальность от 0 до 1, pmin неидеальности диапазоны\n",
        "    p=torch.rand(x, y)*pmax\n",
        "    tetta=torch.rand(x,y)*2.72-1.36*torch.ones([x,y])   #диапазон от -e/2 до e/2\n",
        "    return torch.tensor(p),torch.tensor(tetta)\n",
        "\n",
        "\n",
        "#создание одного шаблона освещения\n",
        "def createRandomPattern(width, height, seed = np.nan, device = 'cpu'):\n",
        "  if not(np.isnan(seed)) : torch.manual_seed(seed)\n",
        "  return torch.randint(low = 0, high = 2, size = (width, height), device = device,dtype = torch.float)\n",
        "  #return torch.rand(width, height)\n",
        "\n",
        "#одного измерение сигнала после объекта\n",
        "def createObjectSignal(pattern,objectProfile, device = 'cpu'):\n",
        "  return unsQ(torch.sum(torch.mul(objectProfile, pattern)),0)\n",
        "\n",
        "# создание последовательности симулированных данных для объекта\n",
        "def createEmulData(numbOfMeasur, objectProfile, device = 'cpu'):\n",
        "  width = objectProfile.size()[0]\n",
        "  height = objectProfile.size()[1]\n",
        "  patterns = unsQ(createRandomPattern(width, height, device = device),0)\n",
        "  objData = createObjectSignal(patterns[0],objectProfile, device = device)\n",
        "  for num in range(1,numbOfMeasur):\n",
        "    localPat = createRandomPattern(width, height, device = device)\n",
        "    objData = torch.cat((objData,createObjectSignal(localPat,objectProfile, device = device)),0)\n",
        "    patterns = torch.cat((patterns,unsQ(localPat,0)),0)\n",
        "  return patterns, objData\n",
        "\n",
        "def crossCorrelation(patterns, objData, device = 'cpu'): #подсчет корреляционной функции\n",
        "  localLen = objData.shape[0]\n",
        "  correlation = torch.zeros_like(patterns[0])\n",
        "  for i in range(localLen):\n",
        "    correlation += (patterns[i]*objData[i])\n",
        "  correlation/= localLen\n",
        "  return (correlation - torch.mean(patterns,0)*torch.mean(objData))\n",
        "def dispersion(patterns):  #подсчет дисперсии\n",
        "  return torch.mean((patterns*patterns), 0) - torch.mean(patterns,0)*torch.mean(patterns,0)"
      ],
      "metadata": {
        "id": "-s7gP6v__1km"
      },
      "execution_count": 9,
      "outputs": []
    },
    {
      "cell_type": "code",
      "source": [
        "#cpu or gpu\n",
        "device = torch.device('cuda' if torch.cuda.is_available() else 'cpu')\n",
        "print('Using device:', device)"
      ],
      "metadata": {
        "colab": {
          "base_uri": "https://localhost:8080/"
        },
        "id": "lhDOlBq8AJnE",
        "outputId": "45268052-7269-497c-81c0-68ded3dfbfb1"
      },
      "execution_count": 3,
      "outputs": [
        {
          "output_type": "stream",
          "name": "stdout",
          "text": [
            "Using device: cpu\n"
          ]
        }
      ]
    },
    {
      "cell_type": "code",
      "source": [
        "#задание настраиваемых параметров:\n",
        "x, y = 7, 7 # размеры картинки\n",
        "pmax1=0.9 #максимальное значение величины анизотропии p\n",
        "num_frames=10000 #число шаблонов освещения для приближения корреляционой функции\n",
        "num_objs=300 #число объектов"
      ],
      "metadata": {
        "id": "dAAvFcFmAd2S"
      },
      "execution_count": 4,
      "outputs": []
    },
    {
      "cell_type": "code",
      "source": [
        "##создание выборки##\n",
        "pitog=[]\n",
        "tetitog=[]\n",
        "cor1=[]\n",
        "cor2=[]\n",
        "cor3=[]\n",
        "for i in tqdm(range(num_objs)):\n",
        "  obj=onePatOfObject(x, y, pmax = pmax1)\n",
        "  p, tet=obj[0], obj[1]\n",
        "  T0=torch.cos(tet)*torch.cos(tet)+p*p*torch.sin(tet)*torch.sin(tet)\n",
        "  T22=1/2*(1+p*p+(1-p*p)*torch.sin(2*tet))\n",
        "  T45=torch.sin(tet)*torch.sin(tet)+p*p*torch.cos(tet)*torch.cos(tet)\n",
        "  pat_test,objData_test = createEmulData(num_frames,T0,device = device)\n",
        "  correlation1 = crossCorrelation(pat_test,objData_test,device = device)\n",
        "  pat_test,objData_test = createEmulData(num_frames,T22,device = device)\n",
        "  correlation2 = crossCorrelation(pat_test,objData_test,device = device)\n",
        "  pat_test,objData_test = createEmulData(num_frames,T45,device = device)\n",
        "  correlation3 = crossCorrelation(pat_test,objData_test,device = device)\n",
        "\n",
        "\n",
        "  for j in range(7):\n",
        "    for k in range(7):\n",
        "      pitog.append(float(p[j][k]))\n",
        "      tetitog.append(float(tet[j][k]))\n",
        "      cor1.append(float(correlation1[j][k]))\n",
        "      cor2.append(float(correlation2[j][k]))\n",
        "      cor3.append(float(correlation3[j][k]))\n",
        "np.save('pitog', pitog)\n",
        "np.save('tetitog', tetitog)\n",
        "np.save('cor1', cor1)\n",
        "np.save('cor2', cor2)\n",
        "np.save('cor3', cor3)"
      ],
      "metadata": {
        "id": "_QpwlgizAN3b"
      },
      "execution_count": null,
      "outputs": []
    },
    {
      "cell_type": "code",
      "source": [
        "#создание наглядных распределений p и тетта\n",
        "pkras=[[0.0, 0.14, 0.28, 0.42, 0.56, 0.70, 0.84],\n",
        "       [0.0, 0.14, 0.28, 0.42, 0.56, 0.70, 0.84],\n",
        "       [0.0, 0.14, 0.28, 0.42, 0.56, 0.70, 0.84],\n",
        "       [0.0, 0.14, 0.28, 0.42, 0.56, 0.70, 0.84],\n",
        "       [0.0, 0.14, 0.28, 0.42, 0.56, 0.70, 0.84],\n",
        "       [0.0, 0.166, 0.28, 0.42, 0.56, 0.70, 0.84],\n",
        "       [0.0, 0.166, 0.28, 0.42, 0.56, 0.70, 0.84]]\n",
        "\n",
        "tetkras=[[-1.36, -1.36, -1.36, -1.36, -1.36, -1.36, -1.36],\n",
        "        [-0.91, -0.91, -0.91, -0.91, -0.91, -0.91, -0.91],\n",
        "        [-0.46, -0.46, -0.46, -0.46,  -0.46, -0.46, -0.46],\n",
        "        [-0.01, -0.01, -0.01, -0.01, -0.01, -0.01, -0.01],\n",
        "        [0.44, 0.44, 0.44, 0.44,  0.44, 0.44, 0.44],\n",
        "        [0.89, 0.89, 0.89, 0.89, 0.89, 0.89, 0.89],\n",
        "        [1.34, 1.34, 1.34, 1.34, 1.34, 1.34, 1.34]]\n"
      ],
      "metadata": {
        "id": "TTvy8zsJENNc"
      },
      "execution_count": 8,
      "outputs": []
    },
    {
      "cell_type": "code",
      "source": [
        "p, tet=torch.tensor(pkras), torch.tensor(tetkras)\n",
        "#print(p)\n",
        "#print(tet)\n",
        "T0=torch.cos(tet)**2+(p*torch.sin(tet))**2\n",
        "T22=1/2*(1+p*p+(1-p*p)*torch.sin(2*tet))\n",
        "T45=torch.sin(tet)**2+(p*torch.cos(tet))**2\n",
        "pat_test,objData_test = createEmulData(10000,T0,device = device)\n",
        "correlation1 = crossCorrelation(pat_test,objData_test,device = device)/dispersion(pat_test)\n",
        "pat_test,objData_test = createEmulData(10000,T22,device = device)\n",
        "correlation2 = crossCorrelation(pat_test,objData_test,device = device)/dispersion(pat_test)\n",
        "pat_test,objData_test = createEmulData(10000,T45,device = device)\n",
        "correlation3 = crossCorrelation(pat_test,objData_test,device = device)/dispersion(pat_test)\n",
        "\n",
        "p_guess=correlation1+correlation3-1\n",
        "p_guess[p_guess<0]=0\n",
        "p_guess=torch.sqrt(p_guess)\n",
        "p_guess[p_guess>0.9]=0.9\n",
        "\n",
        "tet_guess=(2*correlation2-1-p_guess*p_guess)/((1-p_guess*p_guess+correlation1-correlation3))\n",
        "tet_guess=torch.atan(tet_guess)\n",
        "\n",
        "plt.imshow(tet_guess.to('cpu'))\n",
        "plt.colorbar()\n",
        "plt.show()\n",
        "plt.imshow(p_guess)\n",
        "plt.colorbar()\n",
        "plt.show()\n",
        "\n",
        "#\n",
        "print(correlation1/4)\n",
        "print(correlation2/4)\n",
        "print(correlation3/4)"
      ],
      "metadata": {
        "id": "oPKL6EhaEWYm",
        "outputId": "8a422ed3-3026-4107-cb7c-0476937d3864",
        "colab": {
          "base_uri": "https://localhost:8080/",
          "height": 1000
        }
      },
      "execution_count": 10,
      "outputs": [
        {
          "output_type": "display_data",
          "data": {
            "text/plain": [
              "<Figure size 640x480 with 2 Axes>"
            ],
            "image/png": "[encoded data removed]"
          },
          "metadata": {}
        },
        {
          "output_type": "display_data",
          "data": {
            "text/plain": [
              "<Figure size 640x480 with 2 Axes>"
            ],
            "image/png": "[encoded data removed]"
          },
          "metadata": {}
        },
        {
          "output_type": "stream",
          "name": "stdout",
          "text": [
            "tensor([[ 0.0022, -0.0013,  0.0297,  0.0506,  0.0942,  0.1310,  0.1870],\n",
            "        [ 0.1173,  0.0949,  0.0930,  0.1256,  0.1599,  0.1660,  0.1957],\n",
            "        [ 0.1923,  0.2177,  0.2086,  0.1947,  0.2202,  0.2309,  0.2408],\n",
            "        [ 0.2503,  0.2249,  0.2548,  0.2618,  0.2371,  0.2290,  0.2633],\n",
            "        [ 0.2187,  0.2232,  0.2190,  0.2179,  0.2218,  0.2345,  0.2404],\n",
            "        [ 0.1164,  0.0971,  0.1188,  0.1354,  0.1662,  0.1967,  0.2290],\n",
            "        [ 0.0052,  0.0025,  0.0415,  0.0568,  0.0798,  0.1329,  0.1646]])\n",
            "tensor([[ 0.0733,  0.0792,  0.0636,  0.1222,  0.1122,  0.1574,  0.2097],\n",
            "        [-0.0005, -0.0102,  0.0082,  0.0311,  0.0947,  0.1211,  0.1627],\n",
            "        [ 0.0235,  0.0281,  0.0391,  0.0721,  0.0839,  0.1428,  0.1988],\n",
            "        [ 0.1198,  0.1312,  0.1391,  0.1359,  0.1844,  0.1826,  0.2024],\n",
            "        [ 0.2062,  0.2189,  0.2168,  0.2361,  0.2174,  0.2466,  0.2560],\n",
            "        [ 0.2708,  0.2443,  0.2631,  0.2616,  0.2578,  0.2447,  0.2419],\n",
            "        [ 0.1770,  0.1858,  0.1928,  0.1922,  0.2149,  0.2190,  0.2386]])\n",
            "tensor([[ 0.2542,  0.2289,  0.2461,  0.2457,  0.2374,  0.2565,  0.2317],\n",
            "        [ 0.1624,  0.1667,  0.1472,  0.1600,  0.1766,  0.2131,  0.2281],\n",
            "        [ 0.0410,  0.0673,  0.0687,  0.0877,  0.1090,  0.1564,  0.1876],\n",
            "        [-0.0135, -0.0112,  0.0027,  0.0239,  0.0726,  0.0921,  0.1670],\n",
            "        [ 0.0428,  0.0227,  0.0623,  0.0974,  0.0852,  0.1246,  0.1896],\n",
            "        [ 0.1661,  0.1603,  0.1669,  0.1646,  0.1623,  0.2058,  0.2236],\n",
            "        [ 0.2400,  0.2373,  0.2491,  0.2482,  0.2140,  0.2508,  0.2269]])\n"
          ]
        }
      ]
    },
    {
      "cell_type": "code",
      "source": [
        "#подсчет ошибки, тензоры с результатами сети и аналитического счета\n",
        "p_neuro=torch.tensor([[0.0670, 0.1106, 0.1330, 0.3130, 0.5412, 0.7116, 0.8136],\n",
        "        [0.1788, 0.1569, 0.1964, 0.3505, 0.5763, 0.6382, 0.8301],\n",
        "        [0.1109, 0.1145, 0.2021, 0.4162, 0.5680, 0.6800, 0.8491],\n",
        "        [0.1237, 0.1612, 0.2230, 0.4197, 0.5118, 0.6558, 0.8367],\n",
        "        [0.1238, 0.1949, 0.2755, 0.1676, 0.5037, 0.6081, 0.7951],\n",
        "        [0.1459, 0.1342, 0.2975, 0.3337, 0.5232, 0.6913, 0.7600],\n",
        "        [0.1872, 0.1846, 0.3387, 0.4962, 0.5119, 0.6589, 0.8189]])\n",
        "tet_neuro=torch.tensor([[-1.3481e+00, -1.3538e+00, -1.3344e+00, -1.3039e+00, -1.2481e+00,\n",
        "         -1.1670e+00, -9.4219e-01],\n",
        "        [-8.9858e-01, -9.6066e-01, -8.6999e-01, -9.3400e-01, -8.4873e-01,\n",
        "         -9.0435e-01, -6.1446e-01],\n",
        "        [-3.5898e-01, -4.3252e-01, -4.5424e-01, -4.6552e-01, -5.2079e-01,\n",
        "         -4.8862e-01, -4.6033e-01],\n",
        "        [ 5.4865e-04, -4.2024e-02,  6.3207e-02, -5.7044e-02,  1.1126e-02,\n",
        "          1.2599e-01,  4.0417e-02],\n",
        "        [ 4.1203e-01,  3.1602e-01,  3.6096e-01,  4.2157e-01,  4.4124e-01,\n",
        "          4.8840e-01,  5.0833e-01],\n",
        "        [ 8.6065e-01,  9.4575e-01,  8.6001e-01,  8.3583e-01,  9.6307e-01,\n",
        "          1.0913e+00,  8.0604e-01],\n",
        "        [ 1.2753e+00,  1.3109e+00,  1.2469e+00,  1.2168e+00,  1.2716e+00,\n",
        "          1.2332e+00,  4.1841e-01]])\n",
        "p_analitic=torch.tensor([[0.0000, 0.0726, 0.4252, 0.4165, 0.5998, 0.6824, 0.8317],\n",
        "        [0.1680, 0.1204, 0.2461, 0.4014, 0.5318, 0.7008, 0.8448],\n",
        "        [0.1853, 0.2180, 0.3682, 0.3677, 0.5948, 0.6263, 0.8465],\n",
        "        [0.2136, 0.1825, 0.1865, 0.3882, 0.4880, 0.6860, 0.8290],\n",
        "        [0.0000, 0.0000, 0.2832, 0.3888, 0.6418, 0.6498, 0.8193],\n",
        "        [0.1888, 0.1238, 0.3208, 0.4505, 0.6103, 0.6947, 0.8697],\n",
        "        [0.0884, 0.2870, 0.3575, 0.3693, 0.6064, 0.6718, 0.7861]])\n",
        "tet_analitic=torch.tensor([[-1.3662e+00, -1.4641e+00,  1.5142e+00, -1.4665e+00, -1.4696e+00,\n",
        "         -1.1958e+00, -1.2500e+00],\n",
        "        [-8.8680e-01, -9.5036e-01, -8.5587e-01, -8.7578e-01, -8.7346e-01,\n",
        "         -7.5615e-01, -8.8553e-01],\n",
        "        [-4.2793e-01, -4.7399e-01, -5.5447e-01, -3.4884e-01, -4.8423e-01,\n",
        "         -2.8728e-01, -4.0755e-01],\n",
        "        [-4.4825e-02, -4.8339e-04, -1.7114e-02,  3.1840e-02,  6.1679e-02,\n",
        "         -1.2740e-01,  4.5723e-02],\n",
        "        [ 4.1957e-01,  4.4266e-01,  4.4401e-01,  4.4224e-01,  3.7819e-01,\n",
        "          5.2249e-01,  4.4939e-01],\n",
        "        [ 8.7561e-01,  8.5493e-01,  8.3288e-01,  8.9968e-01,  8.4962e-01,\n",
        "          1.0085e+00,  9.2013e-01],\n",
        "        [ 1.2642e+00,  1.3711e+00,  1.4183e+00,  1.3228e+00,  1.3466e+00,\n",
        "          7.9457e-01,  3.2573e-01]])"
      ],
      "metadata": {
        "id": "vbC4MVGRP8EH"
      },
      "execution_count": 11,
      "outputs": []
    },
    {
      "cell_type": "code",
      "source": [
        "#подсчет ошибки\n",
        "p_middle=torch.mean(p)\n",
        "tet_middle=torch.mean(tet)\n",
        "n=49\n",
        "mse_analitic_p=(torch.pow((p_analitic-p_middle), 2))\n",
        "mse_analitic_p=(torch.sum(mse_analitic_p))\n",
        "mse_neuro_p=(torch.pow((p_neuro-p_middle), 2))\n",
        "mse_neuro_p=(torch.sum(mse_neuro_p))\n",
        "print('Сумма квадратов ошибок аналитического счета P:')\n",
        "print((mse_analitic_p/(48*49))**0.5)\n",
        "print('Сумма квадратов ошибок нейронного счета P:')\n",
        "print((mse_neuro_p/(48*49))**0.5)\n",
        "mse_analitic_tet=(torch.pow((tet_analitic-tet_middle), 2))\n",
        "mse_analitic_tet=(torch.sum(mse_analitic_tet))\n",
        "mse_neuro_tet=(torch.pow((tet_neuro-tet_middle), 2))\n",
        "mse_neuro_tet=(torch.sum(mse_neuro_tet))\n",
        "print('Сумма квадратов ошибок аналитического счета tetta:')\n",
        "print((mse_analitic_tet/(48*49))**0.5)\n",
        "print('Сумма квадратов ошибок нейронного счета tetta:')\n",
        "print((mse_neuro_tet/(48*49))**0.5)"
      ],
      "metadata": {
        "id": "fWMwqeQNQIY0",
        "outputId": "ae3c3b75-8f13-46fd-c6de-c81ea86b3d7a",
        "colab": {
          "base_uri": "https://localhost:8080/"
        }
      },
      "execution_count": 12,
      "outputs": [
        {
          "output_type": "stream",
          "name": "stdout",
          "text": [
            "Сумма квадратов ошибок аналитического счета P:\n",
            "tensor(0.0371)\n",
            "Сумма квадратов ошибок нейронного счета P:\n",
            "tensor(0.0361)\n",
            "Сумма квадратов ошибок аналитического счета tetta:\n",
            "tensor(0.1255)\n",
            "Сумма квадратов ошибок нейронного счета tetta:\n",
            "tensor(0.1211)\n"
          ]
        }
      ]
    }
  ]
}