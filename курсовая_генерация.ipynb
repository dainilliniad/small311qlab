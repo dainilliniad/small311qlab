{
  "nbformat": 4,
  "nbformat_minor": 0,
  "metadata": {
    "colab": {
      "provenance": [],
      "include_colab_link": true
    },
    "kernelspec": {
      "name": "python3",
      "display_name": "Python 3"
    },
    "language_info": {
      "name": "python"
    }
  },
  "cells": [
    {
      "cell_type": "markdown",
      "metadata": {
        "id": "view-in-github",
        "colab_type": "text"
      },
      "source": [
        "<a href=\"https://colab.research.google.com/github/dainilliniad/small311qlab/blob/generation/%D0%BA%D1%83%D1%80%D1%81%D0%BE%D0%B2%D0%B0%D1%8F_%D0%B3%D0%B5%D0%BD%D0%B5%D1%80%D0%B0%D1%86%D0%B8%D1%8F.ipynb\" target=\"_parent\"><img src=\"https://colab.research.google.com/assets/colab-badge.svg\" alt=\"Open In Colab\"/></a>"
      ]
    },
    {
      "cell_type": "code",
      "execution_count": 7,
      "metadata": {
        "id": "dRzVkqBb_qs5"
      },
      "outputs": [],
      "source": [
        "#выгрузка необходимых библиотек\n",
        "import math\n",
        "import torch\n",
        "import matplotlib.pyplot as plt\n",
        "import random\n",
        "import numpy as np\n",
        "from torch import unsqueeze as unsQ\n",
        "import time\n",
        "import tqdm\n",
        "from tqdm import tqdm"
      ]
    },
    {
      "cell_type": "code",
      "source": [
        "#создание оригинала изображения, тетта от -e/2 до e/2\n",
        "def onePatOfObject(x, y, pmax = 0.9): #degree  радианах, идеальность от 0 до 1, pmin неидеальности диапазоны\n",
        "    p=torch.rand(x, y)*pmax\n",
        "    tetta=torch.rand(x,y)*2.72-1.36*torch.ones([x,y])   #диапазон от -e/2 до e/2\n",
        "    return torch.tensor(p),torch.tensor(tetta)\n",
        "\n",
        "\n",
        "#создание одного шаблона освещения\n",
        "def createRandomPattern(width, height, seed = np.nan, device = 'cpu'):\n",
        "  if not(np.isnan(seed)) : torch.manual_seed(seed)\n",
        "  return torch.randint(low = 0, high = 2, size = (width, height), device = device,dtype = torch.float)\n",
        "  #return torch.rand(width, height)\n",
        "\n",
        "#одного измерение сигнала после объекта\n",
        "def createObjectSignal(pattern,objectProfile, device = 'cpu'):\n",
        "  return unsQ(torch.sum(torch.mul(objectProfile, pattern)),0)\n",
        "\n",
        "# создание последовательности симулированных данных для объекта\n",
        "def createEmulData(numbOfMeasur, objectProfile, device = 'cpu'):\n",
        "  width = objectProfile.size()[0]\n",
        "  height = objectProfile.size()[1]\n",
        "  patterns = unsQ(createRandomPattern(width, height, device = device),0)\n",
        "  objData = createObjectSignal(patterns[0],objectProfile, device = device)\n",
        "  for num in range(1,numbOfMeasur):\n",
        "    localPat = createRandomPattern(width, height, device = device)\n",
        "    objData = torch.cat((objData,createObjectSignal(localPat,objectProfile, device = device)),0)\n",
        "    patterns = torch.cat((patterns,unsQ(localPat,0)),0)\n",
        "  return patterns, objData\n",
        "\n",
        "def crossCorrelation(patterns, objData, device = 'cpu'): #подсчет корреляционной функции\n",
        "  localLen = objData.shape[0]\n",
        "  correlation = torch.zeros_like(patterns[0])\n",
        "  for i in range(localLen):\n",
        "    correlation += (patterns[i]*objData[i])\n",
        "  correlation/= localLen\n",
        "  return (correlation - torch.mean(patterns,0)*torch.mean(objData))\n",
        "def dispersion(patterns):  #подсчет дисперсии\n",
        "  return torch.mean((patterns*patterns), 0) - torch.mean(patterns,0)*torch.mean(patterns,0)"
      ],
      "metadata": {
        "id": "-s7gP6v__1km"
      },
      "execution_count": null,
      "outputs": []
    },
    {
      "cell_type": "code",
      "source": [
        "#cpu or gpu\n",
        "device = torch.device('cuda' if torch.cuda.is_available() else 'cpu')\n",
        "print('Using device:', device)"
      ],
      "metadata": {
        "colab": {
          "base_uri": "https://localhost:8080/"
        },
        "id": "lhDOlBq8AJnE",
        "outputId": "45268052-7269-497c-81c0-68ded3dfbfb1"
      },
      "execution_count": null,
      "outputs": [
        {
          "output_type": "stream",
          "name": "stdout",
          "text": [
            "Using device: cpu\n"
          ]
        }
      ]
    },
    {
      "cell_type": "code",
      "source": [
        "#задание настраиваемых параметров:\n",
        "x, y = 7, 7 # размеры картинки\n",
        "pmax1=0.9 #максимальное значение величины анизотропии p\n",
        "num_frames=5000 #число шаблонов освещения для приближения корреляционой функции\n",
        "num_objs=300 #число объектов"
      ],
      "metadata": {
        "id": "dAAvFcFmAd2S"
      },
      "execution_count": null,
      "outputs": []
    },
    {
      "cell_type": "code",
      "source": [
        "##создание выборки##\n",
        "pitog=[]\n",
        "tetitog=[]\n",
        "cor1=[]\n",
        "cor2=[]\n",
        "cor3=[]\n",
        "for i in tqdm(range(num_objs)):\n",
        "  obj=onePatOfObject(x, y, pmax = pmax1)\n",
        "  p, tet=obj[0], obj[1]\n",
        "  T0=torch.cos(tet)*torch.cos(tet)+p*p*torch.sin(tet)*torch.sin(tet)\n",
        "  T22=1/2*(1+p*p+(1-p*p)*torch.sin(2*tet))\n",
        "  T45=torch.sin(tet)*torch.sin(tet)+p*p*torch.cos(tet)*torch.cos(tet)\n",
        "  pat_test,objData_test = createEmulData(num_frames,T0,device = device)\n",
        "  correlation1 = crossCorrelation(pat_test,objData_test,device = device)\n",
        "  pat_test,objData_test = createEmulData(num_frames,T22,device = device)\n",
        "  correlation2 = crossCorrelation(pat_test,objData_test,device = device)\n",
        "  pat_test,objData_test = createEmulData(num_frames,T45,device = device)\n",
        "  correlation3 = crossCorrelation(pat_test,objData_test,device = device)\n",
        "\n",
        "\n",
        "  for j in range(7):\n",
        "    for k in range(7):\n",
        "      pitog.append(float(p[j][k]))\n",
        "      tetitog.append(float(tet[j][k]))\n",
        "      cor1.append(float(correlation1[j][k]))\n",
        "      cor2.append(float(correlation2[j][k]))\n",
        "      cor3.append(float(correlation3[j][k]))\n",
        "np.save('pitog', pitog)\n",
        "np.save('tetitog', tetitog)\n",
        "np.save('cor1', cor1)\n",
        "np.save('cor2', cor2)\n",
        "np.save('cor3', cor3)"
      ],
      "metadata": {
        "id": "_QpwlgizAN3b",
        "colab": {
          "base_uri": "https://localhost:8080/"
        },
        "outputId": "c912caa5-a910-491c-efc6-e28fedc542fa"
      },
      "execution_count": null,
      "outputs": [
        {
          "output_type": "stream",
          "name": "stderr",
          "text": [
            "\r  0%|          | 0/300 [00:00<?, ?it/s]<ipython-input-2-cba7f311b26d>:5: UserWarning: To copy construct from a tensor, it is recommended to use sourceTensor.clone().detach() or sourceTensor.clone().detach().requires_grad_(True), rather than torch.tensor(sourceTensor).\n",
            "  return torch.tensor(p),torch.tensor(tetta)\n",
            "100%|██████████| 300/300 [07:00<00:00,  1.40s/it]\n"
          ]
        }
      ]
    },
    {
      "cell_type": "code",
      "source": [
        "#создание наглядных распределений p и тетта\n",
        "pkras=[[0.84, 0.14, 0.28, 0.42, 0.56, 0.70, 0.84],\n",
        "       [0.84, 0.14, 0.28, 0.42, 0.56, 0.70, 0.84],\n",
        "       [0.84, 0.14, 0.28, 0.42, 0.56, 0.70, 0.84],\n",
        "       [0.84, 0.14, 0.28, 0.42, 0.56, 0.70, 0.84],\n",
        "       [0.84, 0.14, 0.28, 0.42, 0.56, 0.70, 0.84],\n",
        "       [0.84, 0.14, 0.28, 0.42, 0.56, 0.70, 0.84],\n",
        "       [0.84, 0.14, 0.28, 0.42, 0.56, 0.70, 0.84]]\n",
        "\n",
        "tetkras=[[-1.36, -1.36, -1.36, -1.36, -1.36, -1.36, -1.36],\n",
        "        [-0.91, -0.91, -0.91, -0.91, -0.91, -0.91, -0.91],\n",
        "        [-0.46, -0.46, -0.46, -0.46,  -0.46, -0.46, -0.46],\n",
        "        [-0.01, -0.01, -0.01, -0.01, -0.01, -0.01, -0.01],\n",
        "        [0.44, 0.44, 0.44, 0.44,  0.44, 0.44, 0.44],\n",
        "        [0.89, 0.89, 0.89, 0.89, 0.89, 0.89, 0.89],\n",
        "        [1.34, 1.34, 1.34, 1.34, 1.34, 1.34, 1.34]]\n"
      ],
      "metadata": {
        "id": "TTvy8zsJENNc"
      },
      "execution_count": 8,
      "outputs": []
    },
    {
      "cell_type": "code",
      "source": [
        "p, tet=torch.tensor(pkras), torch.tensor(tetkras)\n",
        "#print(p)\n",
        "#print(tet)\n",
        "T0=torch.cos(tet)**2+(p*torch.sin(tet))**2\n",
        "T22=1/2*(1+p*p+(1-p*p)*torch.sin(2*tet))\n",
        "T45=torch.sin(tet)**2+(p*torch.cos(tet))**2\n",
        "pat_test,objData_test = createEmulData(5000,T0,device = device)\n",
        "correlation1 = crossCorrelation(pat_test,objData_test,device = device)/dispersion(pat_test)\n",
        "pat_test,objData_test = createEmulData(5000,T22,device = device)\n",
        "correlation2 = crossCorrelation(pat_test,objData_test,device = device)/dispersion(pat_test)\n",
        "pat_test,objData_test = createEmulData(5000,T45,device = device)\n",
        "correlation3 = crossCorrelation(pat_test,objData_test,device = device)/dispersion(pat_test)\n",
        "\n",
        "p_guess=correlation1+correlation3-1\n",
        "p_guess[p_guess<0]=0\n",
        "p_guess=torch.sqrt(p_guess)\n",
        "#p_guess[p_guess>0.9]=0.9\n",
        "\n",
        "tet_guess=(2*correlation2-1-p_guess*p_guess)/((1-p_guess*p_guess+correlation1-correlation3))\n",
        "tet_guess=torch.atan(tet_guess)\n",
        "\n",
        "plt.imshow(tet_guess.to('cpu'))\n",
        "plt.colorbar()\n",
        "plt.show()\n",
        "plt.imshow(p_guess)\n",
        "plt.colorbar()\n",
        "plt.show()\n",
        "\n",
        "#\n",
        "print(correlation1/4)\n",
        "print(correlation2/4)\n",
        "print(correlation3/4)"
      ],
      "metadata": {
        "id": "oPKL6EhaEWYm",
        "outputId": "1ebf96de-e159-442e-9599-512aabb6a805",
        "colab": {
          "base_uri": "https://localhost:8080/",
          "height": 1000
        }
      },
      "execution_count": null,
      "outputs": [
        {
          "output_type": "display_data",
          "data": {
            "text/plain": [
              "<Figure size 640x480 with 2 Axes>"
            ],
            "image/png": "[encoded data removed]"
          },
          "metadata": {}
        },
        {
          "output_type": "display_data",
          "data": {
            "text/plain": [
              "<Figure size 640x480 with 2 Axes>"
            ],
            "image/png": "[encoded data removed]"
          },
          "metadata": {}
        },
        {
          "output_type": "stream",
          "name": "stdout",
          "text": [
            "tensor([[0.1715, 0.0357, 0.0241, 0.0527, 0.0790, 0.1370, 0.1802],\n",
            "        [0.1883, 0.0748, 0.0862, 0.1159, 0.1651, 0.1935, 0.1906],\n",
            "        [0.2154, 0.2078, 0.2288, 0.2222, 0.1937, 0.2344, 0.2388],\n",
            "        [0.2434, 0.2378, 0.2699, 0.2847, 0.2671, 0.2625, 0.2412],\n",
            "        [0.2356, 0.2011, 0.1923, 0.2097, 0.2305, 0.2247, 0.2519],\n",
            "        [0.2231, 0.1101, 0.0996, 0.1324, 0.1272, 0.1907, 0.2016],\n",
            "        [0.1993, 0.0008, 0.0183, 0.0570, 0.1155, 0.1121, 0.1556]])\n",
            "tensor([[0.1839, 0.1244, 0.0921, 0.1049, 0.1131, 0.1431, 0.2267],\n",
            "        [0.1873, 0.0041, 0.0360, 0.0537, 0.0673, 0.1102, 0.1477],\n",
            "        [0.2140, 0.0158, 0.0748, 0.0691, 0.0859, 0.1182, 0.1985],\n",
            "        [0.2293, 0.1064, 0.1392, 0.1243, 0.1594, 0.1925, 0.2008],\n",
            "        [0.2024, 0.2129, 0.1935, 0.2285, 0.2502, 0.2533, 0.2068],\n",
            "        [0.2536, 0.2729, 0.2650, 0.2686, 0.2489, 0.2420, 0.2345],\n",
            "        [0.2257, 0.1919, 0.1711, 0.1950, 0.2077, 0.2125, 0.2311]])\n",
            "tensor([[0.2321, 0.2219, 0.2269, 0.2310, 0.2367, 0.2551, 0.2359],\n",
            "        [0.2590, 0.1481, 0.1133, 0.1628, 0.1850, 0.2461, 0.2157],\n",
            "        [0.1577, 0.0585, 0.0599, 0.1002, 0.0932, 0.1759, 0.2056],\n",
            "        [0.1734, 0.0127, 0.0416, 0.0345, 0.1166, 0.1123, 0.1901],\n",
            "        [0.1655, 0.0592, 0.0893, 0.1109, 0.1098, 0.1620, 0.1993],\n",
            "        [0.2047, 0.1491, 0.1758, 0.1659, 0.1695, 0.1884, 0.2140],\n",
            "        [0.2262, 0.2343, 0.2496, 0.2200, 0.2430, 0.2369, 0.2457]])\n"
          ]
        }
      ]
    },
    {
      "cell_type": "code",
      "source": [
        "print(p_guess)\n",
        "print(tet_guess)  #вывод аналитических p и tetta"
      ],
      "metadata": {
        "colab": {
          "base_uri": "https://localhost:8080/"
        },
        "id": "0BBNQQUEJiVG",
        "outputId": "83b5fd0d-c8c5-4677-d8b0-f79029a38627"
      },
      "execution_count": null,
      "outputs": [
        {
          "output_type": "stream",
          "name": "stdout",
          "text": [
            "tensor([[0.7838, 0.1745, 0.0620, 0.3675, 0.5125, 0.7539, 0.8151],\n",
            "        [0.8884, 0.0000, 0.0000, 0.3390, 0.6331, 0.8709, 0.7907],\n",
            "        [0.7014, 0.2557, 0.3932, 0.5382, 0.3845, 0.8006, 0.8819],\n",
            "        [0.8167, 0.0442, 0.4961, 0.5261, 0.7311, 0.7067, 0.8514],\n",
            "        [0.7774, 0.2031, 0.3555, 0.5314, 0.6009, 0.7395, 0.8971],\n",
            "        [0.8433, 0.1918, 0.3191, 0.4398, 0.4320, 0.7187, 0.8138],\n",
            "        [0.8378, 0.0000, 0.2674, 0.3282, 0.6588, 0.6295, 0.7781]])\n",
            "tensor([[-0.7855, -0.1538, -0.9653, -1.0966, -1.2817,  1.4755,  0.9236],\n",
            "        [ 1.3278, -0.9396, -0.6734, -0.7764, -1.0283, -1.5351, -1.0167],\n",
            "        [ 0.2892, -0.5499, -0.3506, -0.5514, -0.3519, -0.8648, -0.4901],\n",
            "        [ 0.2668, -0.0794, -0.0791, -0.1622, -0.2386,  0.0369, -0.2422],\n",
            "        [ 0.0218,  0.4092,  0.3169,  0.4560,  0.5188,  0.5983, -0.3551],\n",
            "        [ 0.7197,  0.9574,  1.0430,  0.9576,  0.8959,  0.7051,  0.6390],\n",
            "        [ 0.4979,  1.4479,  1.5591,  1.0826,  1.3297,  1.2390,  1.4308]])\n"
          ]
        }
      ]
    },
    {
      "cell_type": "code",
      "source": [
        "plt.imshow(p)\n",
        "plt.colorbar()\n",
        "plt.show()\n",
        "\n",
        "plt.imshow(tet)\n",
        "\n",
        "plt.colorbar()\n",
        "plt.show()"
      ],
      "metadata": {
        "colab": {
          "base_uri": "https://localhost:8080/",
          "height": 843
        },
        "id": "Jp0ESuCUKK7B",
        "outputId": "520a4614-2e37-472f-c15a-5fec90820ffe"
      },
      "execution_count": 9,
      "outputs": [
        {
          "output_type": "display_data",
          "data": {
            "text/plain": [
              "<Figure size 640x480 with 2 Axes>"
            ],
            "image/png": "[encoded data removed]"
          },
          "metadata": {}
        },
        {
          "output_type": "display_data",
          "data": {
            "text/plain": [
              "<Figure size 640x480 with 2 Axes>"
            ],
            "image/png": "[encoded data removed]"
          },
          "metadata": {}
        }
      ]
    },
    {
      "cell_type": "code",
      "source": [
        "#подсчет ошибки, тензоры с результатами сети и аналитического счета\n",
        "p_neuro=torch.tensor([[0.8145, 0.3587, 0.2287, 0.4128, 0.5196, 0.7166, 0.7975],\n",
        "        [0.8385, 0.1094, 0.1506, 0.3906, 0.5820, 0.7431, 0.7781],\n",
        "        [0.7353, 0.1490, 0.3849, 0.4867, 0.4900, 0.7246, 0.8502],\n",
        "        [0.8050, 0.1917, 0.3718, 0.3144, 0.6540, 0.6721, 0.8331],\n",
        "        [0.7977, 0.2364, 0.3537, 0.5154, 0.5630, 0.7407, 0.8447],\n",
        "        [0.8249, 0.2299, 0.3073, 0.4269, 0.4227, 0.7162, 0.8041],\n",
        "        [0.8201, 0.1198, 0.1754, 0.3015, 0.6431, 0.6277, 0.7607]])\n",
        "tet_neuro=torch.tensor([[-0.9341, -1.2063, -1.2695, -1.2563, -1.2515, -1.2165,  1.0092],\n",
        "        [-1.0415, -1.0055, -0.9168, -0.9735, -0.9091, -1.0295, -0.8883],\n",
        "        [ 0.3599, -0.4902, -0.3584, -0.4812, -0.5373, -0.5810, -0.2696],\n",
        "        [ 0.2253, -0.1032,  0.0162, -0.0122, -0.1585,  0.0349, -0.1639],\n",
        "        [-0.0139,  0.4177,  0.4456,  0.4641,  0.4274,  0.4984, -0.0842],\n",
        "        [ 0.6970,  0.7807,  0.9010,  0.8270,  0.8756,  0.8054,  0.8821],\n",
        "        [ 0.7810,  1.2889,  1.2821,  1.2159,  1.1633,  1.1838,  1.1953]])\n",
        "p_analitic=torch.tensor([[0.7838, 0.1745, 0.0620, 0.3675, 0.5125, 0.7539, 0.8151],\n",
        "        [0.8884, 0.0000, 0.0000, 0.3390, 0.6331, 0.8709, 0.7907],\n",
        "        [0.7014, 0.2557, 0.3932, 0.5382, 0.3845, 0.8006, 0.8819],\n",
        "        [0.8167, 0.0442, 0.4961, 0.5261, 0.7311, 0.7067, 0.8514],\n",
        "        [0.7774, 0.2031, 0.3555, 0.5314, 0.6009, 0.7395, 0.8971],\n",
        "        [0.8433, 0.1918, 0.3191, 0.4398, 0.4320, 0.7187, 0.8138],\n",
        "        [0.8378, 0.0000, 0.2674, 0.3282, 0.6588, 0.6295, 0.7781]])\n",
        "tet_analitic=torch.tensor([[-0.7855, -0.1538, -0.9653, -1.0966, -1.2817,  1.4755,  0.9236],\n",
        "        [ 1.3278, -0.9396, -0.6734, -0.7764, -1.0283, -1.5351, -1.0167],\n",
        "        [ 0.2892, -0.5499, -0.3506, -0.5514, -0.3519, -0.8648, -0.4901],\n",
        "        [ 0.2668, -0.0794, -0.0791, -0.1622, -0.2386,  0.0369, -0.2422],\n",
        "        [ 0.0218,  0.4092,  0.3169,  0.4560,  0.5188,  0.5983, -0.3551],\n",
        "        [ 0.7197,  0.9574,  1.0430,  0.9576,  0.8959,  0.7051,  0.6390],\n",
        "        [ 0.4979,  1.4479,  1.5591,  1.0826,  1.3297,  1.2390,  1.4308]])"
      ],
      "metadata": {
        "id": "vbC4MVGRP8EH"
      },
      "execution_count": null,
      "outputs": []
    },
    {
      "cell_type": "code",
      "source": [
        "#подсчет ошибки\n",
        "n=49\n",
        "mae_analitic_p=(torch.sum(torch.abs(p_analitic-p)))/(n*0.9)  #0.9 - разброс p\n",
        "mae_neuro_p=(torch.sum(torch.abs(p_neuro-p)))/(n*0.9)\n",
        "print('Модуль средней ошибки аналитического счета P:')\n",
        "print(mae_analitic_p)\n",
        "print('Модуль средней ошибки нейронного счета P:')\n",
        "print((mae_neuro_p))\n",
        "mae_analitic_tet=(torch.sum(torch.abs(tet_analitic-tet)))/(n*np.pi)  #np.pi() - разброс p\n",
        "mae_neuro_tet=(torch.sum(torch.abs(tet_neuro-tet)))/(n*np.pi)\n",
        "print('Модуль средней ошибки аналитического счета tetta:')\n",
        "print(mae_analitic_tet)\n",
        "print('Модуль средней ошибки нейронного счета tetta:')\n",
        "print(mae_neuro_tet)"
      ],
      "metadata": {
        "id": "fWMwqeQNQIY0",
        "outputId": "37565e0a-cd2e-463c-baa2-6ce73b9ab022",
        "colab": {
          "base_uri": "https://localhost:8080/"
        }
      },
      "execution_count": null,
      "outputs": [
        {
          "output_type": "stream",
          "name": "stdout",
          "text": [
            "Модуль средней ошибки аналитического счета P:\n",
            "tensor(0.0902)\n",
            "Модуль средней ошибки нейронного счета P:\n",
            "tensor(0.0614)\n",
            "Модуль средней ошибки аналитического счета tetta:\n",
            "tensor(0.1165)\n",
            "Модуль средней ошибки нейронного счета tetta:\n",
            "tensor(0.0569)\n"
          ]
        }
      ]
    }
  ]
}