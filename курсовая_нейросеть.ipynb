{
  "nbformat": 4,
  "nbformat_minor": 0,
  "metadata": {
    "colab": {
      "provenance": [],
      "authorship_tag": "ABX9TyP1c0FPAYoVbrOHoIkURR69",
      "include_colab_link": true
    },
    "kernelspec": {
      "name": "python3",
      "display_name": "Python 3"
    },
    "language_info": {
      "name": "python"
    }
  },
  "cells": [
    {
      "cell_type": "markdown",
      "metadata": {
        "id": "view-in-github",
        "colab_type": "text"
      },
      "source": [
        "<a href=\"https://colab.research.google.com/github/dainilliniad/small311qlab/blob/neurowave/%D0%BA%D1%83%D1%80%D1%81%D0%BE%D0%B2%D0%B0%D1%8F_%D0%BD%D0%B5%D0%B9%D1%80%D0%BE%D1%81%D0%B5%D1%82%D1%8C.ipynb\" target=\"_parent\"><img src=\"https://colab.research.google.com/assets/colab-badge.svg\" alt=\"Open In Colab\"/></a>"
      ]
    },
    {
      "cell_type": "code",
      "execution_count": 2,
      "metadata": {
        "colab": {
          "base_uri": "https://localhost:8080/"
        },
        "id": "yKTBEcvQ_tGJ",
        "outputId": "4b1bff08-e711-4332-e58b-43269ed65c36"
      },
      "outputs": [
        {
          "output_type": "stream",
          "name": "stdout",
          "text": [
            "Drive already mounted at /content/gdrive; to attempt to forcibly remount, call drive.mount(\"/content/gdrive\", force_remount=True).\n"
          ]
        }
      ],
      "source": [
        "import os\n",
        "import numpy as np\n",
        "import torch #\n",
        "import torchvision #\n",
        "import matplotlib.pyplot as plt #\n",
        "from time import time #\n",
        "from torchvision import datasets, transforms #\n",
        "from google.colab import drive #\n",
        "from torch.utils.data import Dataset #\n",
        "from torch.utils.data import DataLoader #\n",
        "from tqdm import tqdm #\n",
        "from torch.autograd import Variable #\n",
        "import torch.nn as nn #\n",
        "from torch import tensor\n",
        "import random\n",
        "import matplotlib\n",
        "drive.mount('/content/gdrive')\n",
        "def set_random_seed(seed):\n",
        "    torch.backends.cudnn.deterministic = True\n",
        "    torch.manual_seed(seed)\n",
        "    torch.cuda.manual_seed(seed)\n",
        "    np.random.seed(seed)\n",
        "    random.seed(seed)\n",
        "    os.environ[\"PYTHONHASHSEED\"] = str(seed)\n",
        "\n",
        "\n",
        "set_random_seed(42)"
      ]
    },
    {
      "cell_type": "code",
      "source": [
        "correlation1=np.load('/content/cor1.npy') #тут указать свой путь до\n",
        "correlation2=np.load('/content/cor2.npy')\n",
        "correlation3=np.load('/content/cor3.npy')\n",
        "pitog=np.load('/content/pitog.npy')\n",
        "tetta=np.load('/content/tetitog.npy')   #файлов numpy, созданных в первой части проекта"
      ],
      "metadata": {
        "id": "1VO88jbCB7Hq"
      },
      "execution_count": 3,
      "outputs": []
    },
    {
      "cell_type": "code",
      "source": [
        "class LAADataset(Dataset): #создание датасетов из наших файлов\n",
        "    def __init__(self, Corr_data_g1, Corr_data_g2, Corr_data_g3, Theta_data, P_data, x_0, x_end):\n",
        "      self.LAAdata = []\n",
        "      self.len_data = x_end-x_0\n",
        "      for obj in tqdm(range(self.len_data)):\n",
        "        self.LAAdata.append((tensor([Corr_data_g1[obj],Corr_data_g2[obj],Corr_data_g3[obj]]),tensor([(Theta_data[obj]),P_data[obj]])))\n",
        "\n",
        "    def __len__(self):\n",
        "      return self.len_data\n",
        "\n",
        "    def __getitem__(self, idx):\n",
        "      return self.LAAdata[idx][0],self.LAAdata[idx][1]"
      ],
      "metadata": {
        "id": "GZTs7sP2CTrK"
      },
      "execution_count": 4,
      "outputs": []
    },
    {
      "cell_type": "code",
      "source": [
        "set_random_seed(42)\n",
        "#объявление модели, число нейронов в слоях\n",
        "model = torch.nn.Sequential(\n",
        "        torch.nn.Linear(3, 50, bias=False),\n",
        "        nn.BatchNorm1d(50),\n",
        "        torch.nn.ReLU(),\n",
        "\n",
        "        torch.nn.Linear(50, 200, bias=False),\n",
        "        nn.BatchNorm1d(200),\n",
        "        torch.nn.ReLU(),\n",
        "\n",
        "        torch.nn.Linear(200, 600, bias=False),\n",
        "        nn.BatchNorm1d(600),\n",
        "        torch.nn.ReLU(),\n",
        "\n",
        "        torch.nn.Linear(600, 200, bias=False),\n",
        "        nn.BatchNorm1d(200),\n",
        "        torch.nn.ReLU(),\n",
        "\n",
        "        torch.nn.Linear(200, 100, bias=False),\n",
        "        nn.BatchNorm1d(100),\n",
        "        torch.nn.ReLU(),\n",
        "\n",
        "        torch.nn.Linear(100, 25, bias=False),\n",
        "        nn.BatchNorm1d(25),\n",
        "        torch.nn.ReLU(),\n",
        "\n",
        "        torch.nn.Linear(25, 2)\n",
        "        )"
      ],
      "metadata": {
        "id": "YUJe1tvSCWb_"
      },
      "execution_count": 5,
      "outputs": []
    },
    {
      "cell_type": "code",
      "source": [
        "set_random_seed(42)\n",
        "# Длина обучающей и тестирующей выборок\n",
        "lenTestData = 1000 #длина тестовой выборки\n",
        "lenTrainData = 14500 #длина обучающей выборки\n",
        "batch_size = 200 #размер батча\n",
        "epoches=15 #число эпох\n",
        "criterion = torch.nn.MSELoss() #критерий оптимизации ошибки - среднеквадратический\n",
        "optimizer = torch.optim.Adam(model.parameters(), lr=(1e-5)*2)  #шаг спуска - 10^-4\n",
        "\n",
        "testDatasets = LAADataset(correlation1,correlation2, correlation3, tetta, pitog, 0,lenTestData)\n",
        "trainDatasets = LAADataset(correlation1,correlation2, correlation3, tetta, pitog,lenTestData,lenTrainData+lenTestData)\n",
        "\n",
        "testDataloader = DataLoader(testDatasets, batch_size=batch_size, shuffle=False, num_workers=2)\n",
        "trainDataloader = DataLoader(trainDatasets, batch_size=batch_size, shuffle=True, num_workers=2)"
      ],
      "metadata": {
        "id": "-ezBEaBcCbs_",
        "colab": {
          "base_uri": "https://localhost:8080/"
        },
        "outputId": "656fdba7-cfbf-4d4b-85f3-6b22c87fc272"
      },
      "execution_count": 6,
      "outputs": [
        {
          "output_type": "stream",
          "name": "stderr",
          "text": [
            "100%|██████████| 1000/1000 [00:00<00:00, 56728.85it/s]\n",
            "100%|██████████| 14500/14500 [00:00<00:00, 71941.93it/s]\n"
          ]
        }
      ]
    },
    {
      "cell_type": "code",
      "source": [
        "set_random_seed(42)\n",
        "#обучение модели по эпохам\n",
        "model = model.float()\n",
        "loss_train = []\n",
        "loss_test = []\n",
        "loss_train_tet = []\n",
        "loss_test_tet = []\n",
        "loss_train_p = []\n",
        "loss_test_p = []\n",
        "\n",
        "for epoch in range(epoches):\n",
        "  model.train()\n",
        "  for corf, tettab in trainDataloader:\n",
        "\n",
        "    tettab = tettab.float()\n",
        "    output = model(corf.float()) #получаем результат\n",
        "    loss = criterion(output, tettab)  #считаем ошибку по критерию\n",
        "    loss_tetta=criterion(output[0], tettab[0]) #считаем ошибку тетта по критерию\n",
        "    loss_p=criterion(output[1], tettab[1]) #считаем ошибку p по критерию\n",
        "\n",
        "    optimizer.zero_grad()\n",
        "    loss.backward()\n",
        "    optimizer.step()\n",
        "\n",
        "  loss_train.append(loss.item())\n",
        "  loss_train_tet.append(loss_tetta.item())\n",
        "  loss_train_p.append(loss_p.item())\n",
        "\n",
        "  model.eval()\n",
        "  for corf, tettab in testDataloader:  #тоже самое, только для тестовой выборки\n",
        "    tettab = tettab.float()\n",
        "    output = model(corf.float())\n",
        "    loss = criterion(output, tettab)\n",
        "    loss_tetta=criterion(output[0], tettab[0])\n",
        "    loss_p=criterion(output[1], tettab[1])\n",
        "\n",
        "  loss_test.append(loss.item())\n",
        "  loss_test_tet.append(loss_tetta.item())\n",
        "  loss_test_p.append(loss_p.item())\n",
        "  print('Epoch: ', epoch, 'Loss: ', loss.item())"
      ],
      "metadata": {
        "id": "pCFmOsosC04k",
        "colab": {
          "base_uri": "https://localhost:8080/"
        },
        "outputId": "e7fbfd96-1239-4df1-b372-f6fbe4e744bd"
      },
      "execution_count": 7,
      "outputs": [
        {
          "output_type": "stream",
          "name": "stdout",
          "text": [
            "Epoch:  0 Loss:  0.26944422721862793\n",
            "Epoch:  1 Loss:  0.16072815656661987\n",
            "Epoch:  2 Loss:  0.11664339154958725\n",
            "Epoch:  3 Loss:  0.0953734815120697\n",
            "Epoch:  4 Loss:  0.09139113128185272\n",
            "Epoch:  5 Loss:  0.06901434063911438\n",
            "Epoch:  6 Loss:  0.06113232299685478\n",
            "Epoch:  7 Loss:  0.052011340856552124\n",
            "Epoch:  8 Loss:  0.056719519197940826\n",
            "Epoch:  9 Loss:  0.04698717221617699\n",
            "Epoch:  10 Loss:  0.04262522608041763\n",
            "Epoch:  11 Loss:  0.0344189777970314\n",
            "Epoch:  12 Loss:  0.03645072132349014\n",
            "Epoch:  13 Loss:  0.029418127611279488\n",
            "Epoch:  14 Loss:  0.029274659231305122\n"
          ]
        }
      ]
    },
    {
      "cell_type": "code",
      "source": [
        "def plotLoss(localtest, localtrain, name):\n",
        "  fig, ax = plt.subplots()\n",
        "  matplotlib.rcParams.update({'font.size': 12})\n",
        "  ax.plot(localtrain, linestyle='-', marker='o', color='k',\n",
        "         markerfacecolor='#ff00aaff', label='Тренировочная выборка')\n",
        "  ax.plot(localtest, linestyle='--', marker='o', color='b',\n",
        "         markerfacecolor='#00ffffff',  label='Тестовая выборка')\n",
        "  ax.legend(fontsize=16)\n",
        "  ax.minorticks_on()\n",
        "  ax.set_xlabel('Номер эпохи', fontsize=16)\n",
        "  ax.set_ylabel(r'Значение функции потерь', fontsize=16)\n",
        "  ax.grid(which='major')\n",
        "  ax.grid(which='minor', linestyle=':')\n",
        "  plt.tight_layout()\n",
        "  fig.savefig(name + \".png\",dpi = 300)\n",
        "  fig.show()\n",
        "\n",
        "plotLoss(loss_test_p,loss_train_p,'loss')\n",
        "plotLoss(loss_test_tet,loss_train_tet,'loss')\n",
        "plotLoss(loss_test,loss_train,'loss')"
      ],
      "metadata": {
        "colab": {
          "base_uri": "https://localhost:8080/",
          "height": 786
        },
        "id": "8bP_J35aDbGK",
        "outputId": "6c0f5d0c-41b1-4b5e-c36a-6797e239bb2a"
      },
      "execution_count": 8,
      "outputs": [
        {
          "output_type": "error",
          "ename": "NameError",
          "evalue": "ignored",
          "traceback": [
            "\u001b[0;31m---------------------------------------------------------------------------\u001b[0m",
            "\u001b[0;31mNameError\u001b[0m                                 Traceback (most recent call last)",
            "\u001b[0;32m<ipython-input-8-52229ed6acce>\u001b[0m in \u001b[0;36m<cell line: 18>\u001b[0;34m()\u001b[0m\n\u001b[1;32m     16\u001b[0m   \u001b[0mfig\u001b[0m\u001b[0;34m.\u001b[0m\u001b[0mshow\u001b[0m\u001b[0;34m(\u001b[0m\u001b[0;34m)\u001b[0m\u001b[0;34m\u001b[0m\u001b[0;34m\u001b[0m\u001b[0m\n\u001b[1;32m     17\u001b[0m \u001b[0;34m\u001b[0m\u001b[0m\n\u001b[0;32m---> 18\u001b[0;31m \u001b[0mplotLoss\u001b[0m\u001b[0;34m(\u001b[0m\u001b[0mloss_test_p\u001b[0m\u001b[0;34m,\u001b[0m\u001b[0mloss_train_p\u001b[0m\u001b[0;34m,\u001b[0m\u001b[0;34m'loss'\u001b[0m\u001b[0;34m)\u001b[0m\u001b[0;34m\u001b[0m\u001b[0;34m\u001b[0m\u001b[0m\n\u001b[0m\u001b[1;32m     19\u001b[0m \u001b[0mplotLoss\u001b[0m\u001b[0;34m(\u001b[0m\u001b[0mloss_test_tet\u001b[0m\u001b[0;34m,\u001b[0m\u001b[0mloss_train_tet\u001b[0m\u001b[0;34m,\u001b[0m\u001b[0;34m'loss'\u001b[0m\u001b[0;34m)\u001b[0m\u001b[0;34m\u001b[0m\u001b[0;34m\u001b[0m\u001b[0m\n\u001b[1;32m     20\u001b[0m \u001b[0mplotLoss\u001b[0m\u001b[0;34m(\u001b[0m\u001b[0mloss_test\u001b[0m\u001b[0;34m,\u001b[0m\u001b[0mloss_train\u001b[0m\u001b[0;34m,\u001b[0m\u001b[0;34m'loss'\u001b[0m\u001b[0;34m)\u001b[0m\u001b[0;34m\u001b[0m\u001b[0;34m\u001b[0m\u001b[0m\n",
            "\u001b[0;32m<ipython-input-8-52229ed6acce>\u001b[0m in \u001b[0;36mplotLoss\u001b[0;34m(localtest, localtrain, name)\u001b[0m\n\u001b[1;32m      1\u001b[0m \u001b[0;32mdef\u001b[0m \u001b[0mplotLoss\u001b[0m\u001b[0;34m(\u001b[0m\u001b[0mlocaltest\u001b[0m\u001b[0;34m,\u001b[0m \u001b[0mlocaltrain\u001b[0m\u001b[0;34m,\u001b[0m \u001b[0mname\u001b[0m\u001b[0;34m)\u001b[0m\u001b[0;34m:\u001b[0m\u001b[0;34m\u001b[0m\u001b[0;34m\u001b[0m\u001b[0m\n\u001b[1;32m      2\u001b[0m   \u001b[0mfig\u001b[0m\u001b[0;34m,\u001b[0m \u001b[0max\u001b[0m \u001b[0;34m=\u001b[0m \u001b[0mplt\u001b[0m\u001b[0;34m.\u001b[0m\u001b[0msubplots\u001b[0m\u001b[0;34m(\u001b[0m\u001b[0;34m)\u001b[0m\u001b[0;34m\u001b[0m\u001b[0;34m\u001b[0m\u001b[0m\n\u001b[0;32m----> 3\u001b[0;31m   \u001b[0mmatplotlib\u001b[0m\u001b[0;34m.\u001b[0m\u001b[0mrcParams\u001b[0m\u001b[0;34m.\u001b[0m\u001b[0mupdate\u001b[0m\u001b[0;34m(\u001b[0m\u001b[0;34m{\u001b[0m\u001b[0;34m'font.size'\u001b[0m\u001b[0;34m:\u001b[0m \u001b[0;36m12\u001b[0m\u001b[0;34m}\u001b[0m\u001b[0;34m)\u001b[0m\u001b[0;34m\u001b[0m\u001b[0;34m\u001b[0m\u001b[0m\n\u001b[0m\u001b[1;32m      4\u001b[0m   ax.plot(localtrain, linestyle='-', marker='o', color='k',\n\u001b[1;32m      5\u001b[0m          markerfacecolor='#ff00aaff', label='Тренировочная выборка')\n",
            "\u001b[0;31mNameError\u001b[0m: name 'matplotlib' is not defined"
          ]
        },
        {
          "output_type": "display_data",
          "data": {
            "text/plain": [
              "<Figure size 640x480 with 1 Axes>"
            ],
            "image/png": "[encoded data removed]"
          },
          "metadata": {}
        }
      ]
    },
    {
      "cell_type": "code",
      "source": [
        "length=7  #длина изображение, примем 7, длина равна ширине\n",
        "width=length   #ширина изображение, примем квадратным, длина равна ширине\n",
        "x=[[-0.0011,  0.0105,  0.0182,  0.0314,  0.0679,  0.1340,  0.1829],\n",
        "        [ 0.1035,  0.0631,  0.1186,  0.1085,  0.1593,  0.1842,  0.2192],\n",
        "        [ 0.2189,  0.2091,  0.2021,  0.2051,  0.2404,  0.2139,  0.2418],\n",
        "        [ 0.2402,  0.2645,  0.2518,  0.2472,  0.2493,  0.2485,  0.2433],\n",
        "        [ 0.2103,  0.2189,  0.2066,  0.2002,  0.2069,  0.2107,  0.2279],\n",
        "        [ 0.0971,  0.0777,  0.1157,  0.1300,  0.1336,  0.1571,  0.1958],\n",
        "        [ 0.0207,  0.0098,  0.0439,  0.0796,  0.0865,  0.1385,  0.1784]]\n",
        "y=[[0.0751, 0.0667, 0.0718, 0.1056, 0.1372, 0.1692, 0.2056],\n",
        "        [0.0028, 0.0326, 0.0063, 0.0393, 0.0857, 0.1088, 0.1840],\n",
        "        [0.0325, 0.0191, 0.0414, 0.0720, 0.0854, 0.1327, 0.1694],\n",
        "        [0.1114, 0.1111, 0.1446, 0.1364, 0.1635, 0.2001, 0.2136],\n",
        "        [0.2293, 0.2042, 0.2064, 0.2232, 0.2235, 0.2344, 0.2516],\n",
        "        [0.2617, 0.2586, 0.2506, 0.2572, 0.2385, 0.2454, 0.2707],\n",
        "        [0.1796, 0.1865, 0.1984, 0.1818, 0.1873, 0.2147, 0.2173]]\n",
        "z=[[ 0.2341,  0.2399,  0.2241,  0.2507,  0.2423,  0.2285,  0.2516],\n",
        "        [ 0.1644,  0.1570,  0.1611,  0.1815,  0.1916,  0.2215,  0.2083],\n",
        "        [ 0.0447,  0.0633,  0.0674,  0.0891,  0.1201,  0.1479,  0.2040],\n",
        "        [-0.0008,  0.0082,  0.0252,  0.0549,  0.0720,  0.1232,  0.1828],\n",
        "        [ 0.0362,  0.0390,  0.0709,  0.0527,  0.1059,  0.1397,  0.1784],\n",
        "        [ 0.1436,  0.1580,  0.1586,  0.1554,  0.1948,  0.2244,  0.2007],\n",
        "        [ 0.2328,  0.2510,  0.2370,  0.2411,  0.2573,  0.2395,  0.2567]]\n",
        "#x, y, z - 3 корреляционные функции g1, g2, g3 которые тестируем на сетке\n",
        "t=[]\n",
        "for i in range(length):\n",
        "  for j in range(width):\n",
        "    t.append([x[i][j], y[i][j], z[i][j]])\n",
        "\n",
        "model1=model(torch.tensor(t))\n",
        "p=[]\n",
        "tet=[]\n",
        "p1=[]\n",
        "tet1=[]\n",
        "for i in range(length*width):\n",
        "  if len(p1)!=length:\n",
        "     p1.append(float(model1[i][1]))\n",
        "     tet1.append(float(model1[i][0]))\n",
        "  else:\n",
        "    p.append(p1)\n",
        "    tet.append(tet1)\n",
        "    p1=[]\n",
        "    tet1=[]\n",
        "    p1.append(float(model1[i][1]))\n",
        "    tet1.append(float(model1[i][0]))\n",
        "p.append(p1)\n",
        "tet.append(tet1)\n",
        "\n",
        "p=torch.tensor(p)  #переводим в тензоры\n",
        "tet=torch.tensor(tet)  #переводим в тензоры\n",
        "\n",
        "plt.imshow(tet)\n",
        "plt.colorbar()\n",
        "plt.show()\n",
        "plt.imshow(p)\n",
        "plt.colorbar()\n",
        "plt.show()"
      ],
      "metadata": {
        "colab": {
          "base_uri": "https://localhost:8080/",
          "height": 851
        },
        "id": "l_m8202lD8Ds",
        "outputId": "9c90d744-0194-4742-cd94-1c4d92878534"
      },
      "execution_count": null,
      "outputs": [
        {
          "output_type": "display_data",
          "data": {
            "text/plain": [
              "<Figure size 640x480 with 2 Axes>"
            ],
            "image/png": "[encoded data removed]"
          },
          "metadata": {}
        },
        {
          "output_type": "display_data",
          "data": {
            "text/plain": [
              "<Figure size 640x480 with 2 Axes>"
            ],
            "image/png": "[encoded data removed]"
          },
          "metadata": {}
        }
      ]
    }
  ]
}